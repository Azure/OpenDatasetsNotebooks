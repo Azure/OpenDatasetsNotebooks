{
 "cells": [
  {
   "cell_type": "markdown",
   "metadata": {},
   "source": [
    "Copyright (c) Microsoft Corporation. All rights reserved.\n",
    "\n",
    "Licensed under the MIT License."
   ]
  },
  {
   "cell_type": "markdown",
   "metadata": {},
   "source": [
    "# Tutorial: Load demo data and enrich it with NOAA ISD Weather data.\n",
    "\n",
    "In this tutorial, you load the demo data (a parquet file in Azure Blob), check the data schema, enrich it with NOAA ISD Weather data.\n",
    "\n",
    "Prerequisites:\n",
    "> You must install the PyPi package on the cluster:\n",
    "> * pandas version must be 0.23.0 or above\n",
    "> * azureml-opendatasets\n",
    "\n",
    "Learn how to:\n",
    "> * Load the demo data from Azure Blob\n",
    "> * Check the demo data schema\n",
    "> * Initialize NoaaIsdWeather class to load weather data\n",
    "> * Enrich the demo data with weather data\n",
    "> * Display the joined result annd stats\n"
   ]
  },
  {
   "cell_type": "markdown",
   "metadata": {},
   "source": [
    "## Install opendatasets package"
   ]
  },
  {
   "cell_type": "code",
   "execution_count": 1,
   "metadata": {
    "scrolled": true
   },
   "outputs": [],
   "source": [
    "!pip uninstall -y azureml-opendatasets\n",
    "!pip install azureml-opendatasets"
   ]
  },
  {
   "cell_type": "markdown",
   "metadata": {},
   "source": [
    "## Define a DemoData class to load demo parquet from Azure Blob"
   ]
  },
  {
   "cell_type": "code",
   "execution_count": 2,
   "metadata": {},
   "outputs": [],
   "source": [
    "from azure.storage.blob import BlockBlobService\n",
    "import pyarrow.parquet as pq\n",
    "from io import BytesIO\n",
    "\n",
    "class DemoData:\n",
    "    def __init__(self):\n",
    "        self.blob_account_name = \"azureopendatastorage\"\n",
    "        self.blob_container_name = \"tutorials\"\n",
    "        self.blob_relative_path = 'noaa_isd_weather/demo.parquet'\n",
    "\n",
    "    def to_pandas_dataframe(self):\n",
    "        blob_service = BlockBlobService(account_name=self.blob_account_name)\n",
    "        byte_stream = BytesIO()\n",
    "        blob = blob_service.get_blob_to_stream(\n",
    "            container_name=self.blob_container_name,\n",
    "            blob_name=self.blob_relative_path,\n",
    "            stream=byte_stream)\n",
    "\n",
    "        return pq.read_table(source=byte_stream).to_pandas()"
   ]
  },
  {
   "cell_type": "markdown",
   "metadata": {},
   "source": [
    "## Initialize a DemoData instance and load the pandas DataFrame and check the schema"
   ]
  },
  {
   "cell_type": "code",
   "execution_count": 3,
   "metadata": {
    "scrolled": false
   },
   "outputs": [
    {
     "data": {
      "text/plain": [
       "datetime               datetime64[ns]\n",
       "lat                           float64\n",
       "long                          float64\n",
       "stations.city                  object\n",
       "count                           int32\n",
       "stations.dock_count             int32\n",
       "dtype: object"
      ]
     },
     "execution_count": 3,
     "metadata": {},
     "output_type": "execute_result"
    }
   ],
   "source": [
    "df = DemoData().to_pandas_dataframe()\n",
    "df.dtypes"
   ]
  },
  {
   "cell_type": "markdown",
   "metadata": {},
   "source": [
    "## Display the top 5 rows in the demo data dataframe"
   ]
  },
  {
   "cell_type": "code",
   "execution_count": 4,
   "metadata": {
    "collapsed": true
   },
   "outputs": [
    {
     "data": {
      "text/html": [
       "<div>\n",
       "<style scoped>\n",
       "    .dataframe tbody tr th:only-of-type {\n",
       "        vertical-align: middle;\n",
       "    }\n",
       "\n",
       "    .dataframe tbody tr th {\n",
       "        vertical-align: top;\n",
       "    }\n",
       "\n",
       "    .dataframe thead th {\n",
       "        text-align: right;\n",
       "    }\n",
       "</style>\n",
       "<table border=\"1\" class=\"dataframe\">\n",
       "  <thead>\n",
       "    <tr style=\"text-align: right;\">\n",
       "      <th></th>\n",
       "      <th>datetime</th>\n",
       "      <th>lat</th>\n",
       "      <th>long</th>\n",
       "      <th>stations.city</th>\n",
       "      <th>count</th>\n",
       "      <th>stations.dock_count</th>\n",
       "    </tr>\n",
       "  </thead>\n",
       "  <tbody>\n",
       "    <tr>\n",
       "      <th>0</th>\n",
       "      <td>2015-05-01</td>\n",
       "      <td>37.787152</td>\n",
       "      <td>-122.388013</td>\n",
       "      <td>San Francisco</td>\n",
       "      <td>28</td>\n",
       "      <td>15</td>\n",
       "    </tr>\n",
       "    <tr>\n",
       "      <th>1</th>\n",
       "      <td>2015-05-02</td>\n",
       "      <td>37.787152</td>\n",
       "      <td>-122.388013</td>\n",
       "      <td>San Francisco</td>\n",
       "      <td>5</td>\n",
       "      <td>15</td>\n",
       "    </tr>\n",
       "    <tr>\n",
       "      <th>2</th>\n",
       "      <td>2015-05-03</td>\n",
       "      <td>37.787152</td>\n",
       "      <td>-122.388013</td>\n",
       "      <td>San Francisco</td>\n",
       "      <td>11</td>\n",
       "      <td>15</td>\n",
       "    </tr>\n",
       "    <tr>\n",
       "      <th>3</th>\n",
       "      <td>2015-05-04</td>\n",
       "      <td>37.787152</td>\n",
       "      <td>-122.388013</td>\n",
       "      <td>San Francisco</td>\n",
       "      <td>24</td>\n",
       "      <td>15</td>\n",
       "    </tr>\n",
       "    <tr>\n",
       "      <th>4</th>\n",
       "      <td>2015-05-05</td>\n",
       "      <td>37.787152</td>\n",
       "      <td>-122.388013</td>\n",
       "      <td>San Francisco</td>\n",
       "      <td>24</td>\n",
       "      <td>15</td>\n",
       "    </tr>\n",
       "  </tbody>\n",
       "</table>\n",
       "</div>"
      ],
      "text/plain": [
       "    datetime        lat        long  stations.city  count  stations.dock_count\n",
       "0 2015-05-01  37.787152 -122.388013  San Francisco     28                   15\n",
       "1 2015-05-02  37.787152 -122.388013  San Francisco      5                   15\n",
       "2 2015-05-03  37.787152 -122.388013  San Francisco     11                   15\n",
       "3 2015-05-04  37.787152 -122.388013  San Francisco     24                   15\n",
       "4 2015-05-05  37.787152 -122.388013  San Francisco     24                   15"
      ]
     },
     "execution_count": 4,
     "metadata": {},
     "output_type": "execute_result"
    }
   ],
   "source": [
    "df.head(5)"
   ]
  },
  {
   "cell_type": "markdown",
   "metadata": {},
   "source": [
    "## Initialize NoaaIsdWeather class, get the enricher from it and enrich demo data\n",
    "For weather data, due to size, by default we allow reading from the last month if multiple months are passed.If you want to load more, please refer to `04-nyc-taxi-join-weather-in-pandas.ipynb.ipynb` under this folder for how. "
   ]
  },
  {
   "cell_type": "code",
   "execution_count": 5,
   "metadata": {
    "scrolled": true
   },
   "outputs": [
    {
     "name": "stdout",
     "output_type": "stream",
     "text": [
      "ActivityStarted, get_enricher\n",
      "ActivityCompleted: Activity=get_enricher, HowEnded=Success, Duration=19.98 [ms]\n",
      "ActivityStarted, enrich_customer_data_with_agg\n",
      "ActivityStarted, enrich\n",
      "Target paths: ['/year=2015/month=5/']\n",
      "Looking for parquet files...\n",
      "Reading them into Pandas dataframe...\n",
      "Reading ISDWeather/year=2015/month=5/part-00001-tid-2198075741767757560-e3eb994e-d560-4dfc-941e-0aae74c8d9ed-93.c000.snappy.parquet under container isdweatherdatacontainer\n",
      "Done.\n",
      "ActivityCompleted: Activity=enrich, HowEnded=Success, Duration=53840.99 [ms]\n",
      "ActivityCompleted: Activity=enrich_customer_data_with_agg, HowEnded=Success, Duration=53858.98 [ms]\n"
     ]
    }
   ],
   "source": [
    "from azureml.opendatasets.accessories.location_data import LatLongColumn\n",
    "from azureml.opendatasets.accessories.location_time_customer_data import LocationTimeCustomerData\n",
    "from azureml.opendatasets import NoaaIsdWeather\n",
    "from datetime import datetime\n",
    "\n",
    "\n",
    "_customer_data = LocationTimeCustomerData(df, LatLongColumn('lat', 'long'), 'datetime')\n",
    "weather = NoaaIsdWeather(\n",
    "    cols=[\"temperature\", \"windSpeed\", \"seaLvlPressure\"],\n",
    "    start_date=datetime(2015, 5, 1, 0, 0),\n",
    "    end_date=datetime(2015, 5, 31, 23, 59))\n",
    "weather_enricher = weather.get_enricher()\n",
    "joined_data = weather_enricher.enrich_customer_data_with_agg(\n",
    "    customer_data_object=_customer_data,\n",
    "    location_match_granularity=5,\n",
    "    time_round_granularity='day',\n",
    "    agg='avg')"
   ]
  },
  {
   "cell_type": "markdown",
   "metadata": {},
   "source": [
    "## Display the top 10 rows of the joined result"
   ]
  },
  {
   "cell_type": "code",
   "execution_count": 6,
   "metadata": {},
   "outputs": [
    {
     "data": {
      "text/html": [
       "<div>\n",
       "<style scoped>\n",
       "    .dataframe tbody tr th:only-of-type {\n",
       "        vertical-align: middle;\n",
       "    }\n",
       "\n",
       "    .dataframe tbody tr th {\n",
       "        vertical-align: top;\n",
       "    }\n",
       "\n",
       "    .dataframe thead th {\n",
       "        text-align: right;\n",
       "    }\n",
       "</style>\n",
       "<table border=\"1\" class=\"dataframe\">\n",
       "  <thead>\n",
       "    <tr style=\"text-align: right;\">\n",
       "      <th></th>\n",
       "      <th>datetime</th>\n",
       "      <th>lat</th>\n",
       "      <th>long</th>\n",
       "      <th>stations.city</th>\n",
       "      <th>count</th>\n",
       "      <th>stations.dock_count</th>\n",
       "      <th>windSpeed</th>\n",
       "      <th>seaLvlPressure</th>\n",
       "      <th>temperature</th>\n",
       "    </tr>\n",
       "  </thead>\n",
       "  <tbody>\n",
       "    <tr>\n",
       "      <th>0</th>\n",
       "      <td>2015-05-01</td>\n",
       "      <td>37.787152</td>\n",
       "      <td>-122.388013</td>\n",
       "      <td>San Francisco</td>\n",
       "      <td>28</td>\n",
       "      <td>15</td>\n",
       "      <td>3.487931</td>\n",
       "      <td>1010.263462</td>\n",
       "      <td>17.109827</td>\n",
       "    </tr>\n",
       "    <tr>\n",
       "      <th>1</th>\n",
       "      <td>2015-05-02</td>\n",
       "      <td>37.787152</td>\n",
       "      <td>-122.388013</td>\n",
       "      <td>San Francisco</td>\n",
       "      <td>5</td>\n",
       "      <td>15</td>\n",
       "      <td>3.800000</td>\n",
       "      <td>1011.945192</td>\n",
       "      <td>13.647619</td>\n",
       "    </tr>\n",
       "    <tr>\n",
       "      <th>2</th>\n",
       "      <td>2015-05-03</td>\n",
       "      <td>37.787152</td>\n",
       "      <td>-122.388013</td>\n",
       "      <td>San Francisco</td>\n",
       "      <td>11</td>\n",
       "      <td>15</td>\n",
       "      <td>3.731383</td>\n",
       "      <td>1012.007692</td>\n",
       "      <td>13.163684</td>\n",
       "    </tr>\n",
       "    <tr>\n",
       "      <th>3</th>\n",
       "      <td>2015-05-04</td>\n",
       "      <td>37.787152</td>\n",
       "      <td>-122.388013</td>\n",
       "      <td>San Francisco</td>\n",
       "      <td>24</td>\n",
       "      <td>15</td>\n",
       "      <td>4.450000</td>\n",
       "      <td>1014.373077</td>\n",
       "      <td>12.110891</td>\n",
       "    </tr>\n",
       "    <tr>\n",
       "      <th>4</th>\n",
       "      <td>2015-05-05</td>\n",
       "      <td>37.787152</td>\n",
       "      <td>-122.388013</td>\n",
       "      <td>San Francisco</td>\n",
       "      <td>24</td>\n",
       "      <td>15</td>\n",
       "      <td>4.897927</td>\n",
       "      <td>1014.917308</td>\n",
       "      <td>12.473057</td>\n",
       "    </tr>\n",
       "    <tr>\n",
       "      <th>5</th>\n",
       "      <td>2015-05-06</td>\n",
       "      <td>37.787152</td>\n",
       "      <td>-122.388013</td>\n",
       "      <td>San Francisco</td>\n",
       "      <td>28</td>\n",
       "      <td>15</td>\n",
       "      <td>5.418947</td>\n",
       "      <td>1012.480769</td>\n",
       "      <td>12.531579</td>\n",
       "    </tr>\n",
       "    <tr>\n",
       "      <th>6</th>\n",
       "      <td>2015-05-07</td>\n",
       "      <td>37.787152</td>\n",
       "      <td>-122.388013</td>\n",
       "      <td>San Francisco</td>\n",
       "      <td>20</td>\n",
       "      <td>15</td>\n",
       "      <td>4.744022</td>\n",
       "      <td>1008.820192</td>\n",
       "      <td>12.235870</td>\n",
       "    </tr>\n",
       "    <tr>\n",
       "      <th>7</th>\n",
       "      <td>2015-05-08</td>\n",
       "      <td>37.787152</td>\n",
       "      <td>-122.388013</td>\n",
       "      <td>San Francisco</td>\n",
       "      <td>21</td>\n",
       "      <td>15</td>\n",
       "      <td>3.018817</td>\n",
       "      <td>1010.196154</td>\n",
       "      <td>13.047312</td>\n",
       "    </tr>\n",
       "    <tr>\n",
       "      <th>8</th>\n",
       "      <td>2015-05-09</td>\n",
       "      <td>37.787152</td>\n",
       "      <td>-122.388013</td>\n",
       "      <td>San Francisco</td>\n",
       "      <td>9</td>\n",
       "      <td>15</td>\n",
       "      <td>3.629231</td>\n",
       "      <td>1017.961765</td>\n",
       "      <td>12.549490</td>\n",
       "    </tr>\n",
       "    <tr>\n",
       "      <th>9</th>\n",
       "      <td>2015-05-10</td>\n",
       "      <td>37.787152</td>\n",
       "      <td>-122.388013</td>\n",
       "      <td>San Francisco</td>\n",
       "      <td>10</td>\n",
       "      <td>15</td>\n",
       "      <td>4.752475</td>\n",
       "      <td>1018.724038</td>\n",
       "      <td>12.211275</td>\n",
       "    </tr>\n",
       "  </tbody>\n",
       "</table>\n",
       "</div>"
      ],
      "text/plain": [
       "    datetime        lat        long  stations.city  count  \\\n",
       "0 2015-05-01  37.787152 -122.388013  San Francisco     28   \n",
       "1 2015-05-02  37.787152 -122.388013  San Francisco      5   \n",
       "2 2015-05-03  37.787152 -122.388013  San Francisco     11   \n",
       "3 2015-05-04  37.787152 -122.388013  San Francisco     24   \n",
       "4 2015-05-05  37.787152 -122.388013  San Francisco     24   \n",
       "5 2015-05-06  37.787152 -122.388013  San Francisco     28   \n",
       "6 2015-05-07  37.787152 -122.388013  San Francisco     20   \n",
       "7 2015-05-08  37.787152 -122.388013  San Francisco     21   \n",
       "8 2015-05-09  37.787152 -122.388013  San Francisco      9   \n",
       "9 2015-05-10  37.787152 -122.388013  San Francisco     10   \n",
       "\n",
       "   stations.dock_count  windSpeed  seaLvlPressure  temperature  \n",
       "0                   15   3.487931     1010.263462    17.109827  \n",
       "1                   15   3.800000     1011.945192    13.647619  \n",
       "2                   15   3.731383     1012.007692    13.163684  \n",
       "3                   15   4.450000     1014.373077    12.110891  \n",
       "4                   15   4.897927     1014.917308    12.473057  \n",
       "5                   15   5.418947     1012.480769    12.531579  \n",
       "6                   15   4.744022     1008.820192    12.235870  \n",
       "7                   15   3.018817     1010.196154    13.047312  \n",
       "8                   15   3.629231     1017.961765    12.549490  \n",
       "9                   15   4.752475     1018.724038    12.211275  "
      ]
     },
     "execution_count": 6,
     "metadata": {},
     "output_type": "execute_result"
    }
   ],
   "source": [
    "joined_data.data.head(10)"
   ]
  },
  {
   "cell_type": "markdown",
   "metadata": {},
   "source": [
    "## Check the stats of joined result"
   ]
  },
  {
   "cell_type": "code",
   "execution_count": 7,
   "metadata": {
    "scrolled": true
   },
   "outputs": [
    {
     "name": "stdout",
     "output_type": "stream",
     "text": [
      "<class 'pandas.core.frame.DataFrame'>\n",
      "Int64Index: 1850 entries, 0 to 1849\n",
      "Data columns (total 9 columns):\n",
      "datetime               1850 non-null datetime64[ns]\n",
      "lat                    1850 non-null float64\n",
      "long                   1850 non-null float64\n",
      "stations.city          1850 non-null object\n",
      "count                  1850 non-null int32\n",
      "stations.dock_count    1850 non-null int32\n",
      "windSpeed              1850 non-null float64\n",
      "seaLvlPressure         1850 non-null float64\n",
      "temperature            1850 non-null float64\n",
      "dtypes: datetime64[ns](1), float64(5), int32(2), object(1)\n",
      "memory usage: 130.1+ KB\n"
     ]
    }
   ],
   "source": [
    "joined_data.data.info()"
   ]
  }
 ],
 "metadata": {
  "celltoolbar": "Raw Cell Format",
  "kernelspec": {
   "display_name": "Python 3",
   "language": "python",
   "name": "python3"
  },
  "language_info": {
   "codemirror_mode": {
    "name": "ipython",
    "version": 3
   },
   "file_extension": ".py",
   "mimetype": "text/x-python",
   "name": "python",
   "nbconvert_exporter": "python",
   "pygments_lexer": "ipython3",
   "version": "3.6.8"
  }
 },
 "nbformat": 4,
 "nbformat_minor": 2
}
