{
  "cells": [
    {
      "cell_type": "markdown",
      "source": [
        "Copyright (c) Microsoft Corporation. All rights reserved.\n\nLicensed under the MIT License."
      ],
      "metadata": {}
    },
    {
      "cell_type": "markdown",
      "source": [
        "# Tutorial: Load demo data and enrich it with NOAA ISD Weather data.\n\nIn this tutorial, you load the demo data (a parquet file in Azure Blob), check the data schema, enrich it with NOAA ISD Weather data.\n\nPrerequisites:\n> You must install the PyPi package on the cluster:\n> * pandas version must be 0.23.0 or above\n> * azureml-contrib-opendatasets\n\nLearn how to:\n> * Load the demo data from Azure Blob\n> * Check the demo data schema\n> * Initialize NoaaIsdWeather class to load weather data\n> * Enrich the demo data with weather data\n> * Display the joined result annd stats"
      ],
      "metadata": {}
    },
    {
      "cell_type": "markdown",
      "source": [
        "## Install azureml-opendatasets package"
      ],
      "metadata": {}
    },
    {
      "cell_type": "code",
      "source": [
        "!pip uninstall -y azureml-opendatasets\n!pip install azureml-opendatasets"
      ],
      "metadata": {
        "scrolled": true
      },
      "outputs": [],
      "execution_count": 4
    },
    {
      "cell_type": "markdown",
      "source": [
        "## Define a DemoData class to load demo parquet from Azure Blob"
      ],
      "metadata": {}
    },
    {
      "cell_type": "code",
      "source": [
        "from azure.storage.blob import BlockBlobService\nimport pyarrow.parquet as pq\nfrom io import BytesIO\n\nclass DemoData:\n    def __init__(self):\n        self.blob_account_name = \"azureopendatastorage\"\n        self.blob_container_name = \"tutorials\"\n        self.blob_relative_path = 'noaa_isd_weather/demo.parquet'\n\n    def to_pandas_dataframe(self):\n        blob_service = BlockBlobService(account_name=self.blob_account_name)\n        byte_stream = BytesIO()\n        blob = blob_service.get_blob_to_stream(\n            container_name=self.blob_container_name,\n            blob_name=self.blob_relative_path,\n            stream=byte_stream)\n\n        return pq.read_table(source=byte_stream).to_pandas()"
      ],
      "metadata": {},
      "outputs": [
        {
          "metadata": {},
          "output_type": "display_data",
          "data": {
            "text/html": [
              "<style scoped>\n  .ansiout {\n    display: block;\n    unicode-bidi: embed;\n    white-space: pre-wrap;\n    word-wrap: break-word;\n    word-break: break-all;\n    font-family: \"Source Code Pro\", \"Menlo\", monospace;;\n    font-size: 13px;\n    color: #555;\n    margin-left: 4px;\n    line-height: 19px;\n  }\n</style>\n<div class=\"ansiout\"></div>"
            ]
          }
        }
      ],
      "execution_count": 6
    },
    {
      "cell_type": "markdown",
      "source": [
        "## Initialize a DemoData instance and load the pandas DataFrame and check the schema"
      ],
      "metadata": {}
    },
    {
      "cell_type": "code",
      "source": [
        "df = DemoData().to_pandas_dataframe()\ndf.dtypes"
      ],
      "metadata": {
        "scrolled": false
      },
      "outputs": [
        {
          "metadata": {},
          "output_type": "display_data",
          "data": {
            "text/html": [
              "<style scoped>\n  .ansiout {\n    display: block;\n    unicode-bidi: embed;\n    white-space: pre-wrap;\n    word-wrap: break-word;\n    word-break: break-all;\n    font-family: \"Source Code Pro\", \"Menlo\", monospace;;\n    font-size: 13px;\n    color: #555;\n    margin-left: 4px;\n    line-height: 19px;\n  }\n</style>\n<div class=\"ansiout\"><span class=\"ansired\">Out[</span><span class=\"ansired\">2</span><span class=\"ansired\">]: </span>\ndatetime               datetime64[ns]\nlat                           float64\nlong                          float64\nstations.city                  object\ncount                           int32\nstations.dock_count             int32\ndtype: object\n</div>"
            ]
          }
        }
      ],
      "execution_count": 8
    },
    {
      "cell_type": "markdown",
      "source": [
        "## Display the top 5 rows in the demo data dataframe"
      ],
      "metadata": {}
    },
    {
      "cell_type": "code",
      "source": [
        "df.head(5)"
      ],
      "metadata": {
        "collapsed": true
      },
      "outputs": [
        {
          "metadata": {},
          "output_type": "display_data",
          "data": {
            "text/html": [
              "<style scoped>\n  .ansiout {\n    display: block;\n    unicode-bidi: embed;\n    white-space: pre-wrap;\n    word-wrap: break-word;\n    word-break: break-all;\n    font-family: \"Source Code Pro\", \"Menlo\", monospace;;\n    font-size: 13px;\n    color: #555;\n    margin-left: 4px;\n    line-height: 19px;\n  }\n</style>\n<div class=\"ansiout\"><span class=\"ansired\">Out[</span><span class=\"ansired\">3</span><span class=\"ansired\">]: </span>\n    datetime        lat         ...          count stations.dock_count\n0 2015-05-01  37.787152         ...             28                  15\n1 2015-05-02  37.787152         ...              5                  15\n2 2015-05-03  37.787152         ...             11                  15\n3 2015-05-04  37.787152         ...             24                  15\n4 2015-05-05  37.787152         ...             24                  15\n\n[5 rows x 6 columns]\n</div>"
            ]
          }
        }
      ],
      "execution_count": 10
    },
    {
      "cell_type": "markdown",
      "source": [
        "## Initialize NoaaIsdWeather class, get the enricher from it and enrich demo data\nFor weather data, due to size, by default we allow reading from the last month if multiple months are passed.If you want to load more, please refer to `04-nyc-taxi-join-weather-in-pandas.ipynb.ipynb` under this folder for how.\n\nThe logic for join:\n\nThe join logic for Pandas version is using cKDTree to accelerate the speed of the process. We gather the public weather dataset as long/lat point array, pass it to create cKDTree. Then gather the customer dataset as long/lat point array, pass it to cKDTree query function, to find the closest point in cKDTree. After querying cKDTree, we join public weather dataset with customer dataset by the querying result, then grant ranking group id."
      ],
      "metadata": {}
    },
    {
      "cell_type": "code",
      "source": [
        "# This is a package in preview.\n\nfrom azureml.opendatasets.accessories.location_data import LatLongColumn\nfrom azureml.opendatasets.accessories.location_time_customer_data import LocationTimeCustomerData\nfrom azureml.opendatasets import NoaaIsdWeather\nfrom datetime import datetime\n\n\n_customer_data = LocationTimeCustomerData(df, LatLongColumn('lat', 'long'), 'datetime')\nweather = NoaaIsdWeather(\n    cols=[\"temperature\", \"windSpeed\", \"seaLvlPressure\"],\n    start_date=datetime(2015, 5, 1, 0, 0),\n    end_date=datetime(2015, 5, 31, 23, 59))\nweather_enricher = weather.get_enricher()\njoined_data = weather_enricher.enrich_customer_data_with_agg(\n    customer_data_object=_customer_data,\n    location_match_granularity=5,\n    time_round_granularity='day',\n    agg='avg')"
      ],
      "metadata": {
        "scrolled": true
      },
      "outputs": [
        {
          "metadata": {},
          "output_type": "display_data",
          "data": {
            "text/html": [
              "<style scoped>\n  .ansiout {\n    display: block;\n    unicode-bidi: embed;\n    white-space: pre-wrap;\n    word-wrap: break-word;\n    word-break: break-all;\n    font-family: \"Source Code Pro\", \"Menlo\", monospace;;\n    font-size: 13px;\n    color: #555;\n    margin-left: 4px;\n    line-height: 19px;\n  }\n</style>\n<div class=\"ansiout\">ActivityStarted, get_enricher\nActivityCompleted: Activity=get_enricher, HowEnded=Success, Duration=1.65 [ms]\nActivityStarted, enrich_customer_data_with_agg\nActivityStarted, enrich\nTarget paths: [&apos;/year=2015/month=5/&apos;]\nLooking for parquet files...\nReading them into Pandas dataframe...\nReading ISDWeather/year=2015/month=5/part-00001-tid-2198075741767757560-e3eb994e-d560-4dfc-941e-0aae74c8d9ed-93.c000.snappy.parquet under container isdweatherdatacontainer\nDone.\nActivityStarted, _get_closest_location_kdTree\nActivityCompleted: Activity=_get_closest_location_kdTree, HowEnded=Success, Duration=26.44 [ms]\nActivityCompleted: Activity=enrich, HowEnded=Success, Duration=36200.08 [ms]\nActivityCompleted: Activity=enrich_customer_data_with_agg, HowEnded=Success, Duration=36201.54 [ms]\n</div>"
            ]
          }
        }
      ],
      "execution_count": 12
    },
    {
      "cell_type": "markdown",
      "source": [
        "## Display the top 10 rows of the joined result"
      ],
      "metadata": {}
    },
    {
      "cell_type": "code",
      "source": [
        "joined_data.data.head(10)"
      ],
      "metadata": {},
      "outputs": [
        {
          "metadata": {},
          "output_type": "display_data",
          "data": {
            "text/html": [
              "<style scoped>\n  .ansiout {\n    display: block;\n    unicode-bidi: embed;\n    white-space: pre-wrap;\n    word-wrap: break-word;\n    word-break: break-all;\n    font-family: \"Source Code Pro\", \"Menlo\", monospace;;\n    font-size: 13px;\n    color: #555;\n    margin-left: 4px;\n    line-height: 19px;\n  }\n</style>\n<div class=\"ansiout\"><span class=\"ansired\">Out[</span><span class=\"ansired\">6</span><span class=\"ansired\">]: </span>\n    datetime        lat      ...        windSpeed seaLvlPressure\n0 2015-05-01  37.787152      ...         3.123711     1010.11125\n1 2015-05-02  37.787152      ...         3.690777     1011.76125\n2 2015-05-03  37.787152      ...         3.579512     1011.81125\n3 2015-05-04  37.787152      ...         4.349289     1014.19500\n4 2015-05-05  37.787152      ...         4.650739     1014.70625\n5 2015-05-06  37.787152      ...         5.280488     1012.26000\n6 2015-05-07  37.787152      ...         4.492424     1008.61000\n7 2015-05-08  37.787152      ...         2.853769     1009.97250\n8 2015-05-09  37.787152      ...         3.574510     1017.74359\n9 2015-05-10  37.787152      ...         4.777209     1018.53500\n\n[10 rows x 9 columns]\n</div>"
            ]
          }
        }
      ],
      "execution_count": 14
    },
    {
      "cell_type": "markdown",
      "source": [
        "## Check the stats of joined result"
      ],
      "metadata": {}
    },
    {
      "cell_type": "code",
      "source": [
        "joined_data.data.info()"
      ],
      "metadata": {
        "scrolled": true
      },
      "outputs": [
        {
          "metadata": {},
          "output_type": "display_data",
          "data": {
            "text/html": [
              "<style scoped>\n  .ansiout {\n    display: block;\n    unicode-bidi: embed;\n    white-space: pre-wrap;\n    word-wrap: break-word;\n    word-break: break-all;\n    font-family: \"Source Code Pro\", \"Menlo\", monospace;;\n    font-size: 13px;\n    color: #555;\n    margin-left: 4px;\n    line-height: 19px;\n  }\n</style>\n<div class=\"ansiout\">&lt;class &apos;pandas.core.frame.DataFrame&apos;&gt;\nInt64Index: 1850 entries, 0 to 1849\nData columns (total 9 columns):\ndatetime               1850 non-null datetime64[ns]\nlat                    1850 non-null float64\nlong                   1850 non-null float64\nstations.city          1850 non-null object\ncount                  1850 non-null int32\nstations.dock_count    1850 non-null int32\ntemperature            1850 non-null float64\nwindSpeed              1850 non-null float64\nseaLvlPressure         1850 non-null float64\ndtypes: datetime64[ns](1), float64(5), int32(2), object(1)\nmemory usage: 130.1+ KB\n</div>"
            ]
          }
        }
      ],
      "execution_count": 16
    }
  ],
  "metadata": {
    "language_info": {
      "mimetype": "text/x-python",
      "name": "python",
      "pygments_lexer": "ipython3",
      "codemirror_mode": {
        "name": "ipython",
        "version": 3
      },
      "version": "3.6.8",
      "nbconvert_exporter": "python",
      "file_extension": ".py"
    },
    "name": "02-weather-join-in-pandas",
    "notebookId": 1709144033725327,
    "kernelspec": {
      "display_name": "Python 3",
      "language": "python",
      "name": "python3"
    },
    "celltoolbar": "Raw Cell Format"
  },
  "nbformat": 4,
  "nbformat_minor": 0
}
