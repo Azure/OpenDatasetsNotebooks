{
  "cells": [
    {
      "cell_type": "markdown",
      "source": [
        "Copyright (c) Microsoft Corporation. All rights reserved.\n\nLicensed under the MIT License."
      ],
      "metadata": {}
    },
    {
      "cell_type": "markdown",
      "source": [
        "# Tutorial: Load TAXI data and enrich it with Weather data in Pandas DataFrame"
      ],
      "metadata": {}
    },
    {
      "cell_type": "markdown",
      "source": [
        "Begin by creating a dataframe to hold the taxi data. To download 2 months of taxi data, iteratively fetch one month at a time, and before appending it to green_taxi_df randomly sample 0.1% records from the specific month to avoid bloating the dataframe."
      ],
      "metadata": {}
    },
    {
      "cell_type": "code",
      "source": [
        "import pandas as pd\nfrom datetime import datetime\nfrom dateutil.relativedelta import relativedelta\nfrom azureml.opendatasets import NycTlcGreen\nfrom functools import reduce  # For Python 3.x\nfrom pyspark.sql import DataFrame\n\n\nstart = datetime.strptime(\"1/1/2016\", \"%m/%d/%Y\")\nend = datetime.strptime(\"1/31/2016\", \"%m/%d/%Y\")\n\ndfs = []\nfor sample_month in range(2):\n    temp_df_green = NycTlcGreen(\n        start + relativedelta(months=sample_month),\n        end + relativedelta(months=sample_month)).to_spark_dataframe()\n    dfs.append(temp_df_green.sample(False, 0.001, 3))\n\ngreen_taxi_df = reduce(DataFrame.unionAll, dfs)"
      ],
      "metadata": {},
      "outputs": [
        {
          "metadata": {},
          "output_type": "display_data",
          "data": {
            "text/html": [
              "<style scoped>\n  .ansiout {\n    display: block;\n    unicode-bidi: embed;\n    white-space: pre-wrap;\n    word-wrap: break-word;\n    word-break: break-all;\n    font-family: \"Source Code Pro\", \"Menlo\", monospace;;\n    font-size: 13px;\n    color: #555;\n    margin-left: 4px;\n    line-height: 19px;\n  }\n</style>\n<div class=\"ansiout\">ActivityStarted, to_spark_dataframe\nActivityStarted, to_spark_dataframe_in_worker\nActivityCompleted: Activity=to_spark_dataframe_in_worker, HowEnded=Success, Duration=53785.29 [ms]\nActivityCompleted: Activity=to_spark_dataframe, HowEnded=Success, Duration=53786.87 [ms]\nActivityStarted, to_spark_dataframe\nActivityStarted, to_spark_dataframe_in_worker\nActivityCompleted: Activity=to_spark_dataframe_in_worker, HowEnded=Success, Duration=52593.31 [ms]\nActivityCompleted: Activity=to_spark_dataframe, HowEnded=Success, Duration=52594.72 [ms]\n</div>"
            ]
          }
        }
      ],
      "execution_count": 4
    },
    {
      "cell_type": "markdown",
      "source": [
        "Save a copy of the raw_columns name list for clean up at the last step."
      ],
      "metadata": {}
    },
    {
      "cell_type": "code",
      "source": [
        "raw_columns = list(green_taxi_df.columns)"
      ],
      "metadata": {},
      "outputs": [
        {
          "metadata": {},
          "output_type": "display_data",
          "data": {
            "text/html": [
              "<style scoped>\n  .ansiout {\n    display: block;\n    unicode-bidi: embed;\n    white-space: pre-wrap;\n    word-wrap: break-word;\n    word-break: break-all;\n    font-family: \"Source Code Pro\", \"Menlo\", monospace;;\n    font-size: 13px;\n    color: #555;\n    margin-left: 4px;\n    line-height: 19px;\n  }\n</style>\n<div class=\"ansiout\"></div>"
            ]
          }
        }
      ],
      "execution_count": 6
    },
    {
      "cell_type": "markdown",
      "source": [
        "NYC Latitude & Longitude: (40.71455, -74.00712) found by Bing search.\n\nAdd to taxi dataframe"
      ],
      "metadata": {}
    },
    {
      "cell_type": "markdown",
      "source": [
        "Make all Latitude and Longitude be the location of New York City."
      ],
      "metadata": {}
    },
    {
      "cell_type": "code",
      "source": [
        "from pyspark.sql.functions import lit\n\nnyc_lat, nyc_long = (40.71455, -74.00712)\ngreen_taxi_df = green_taxi_df.withColumn('lat', lit(nyc_lat)).withColumn('long', lit(nyc_long))\ndisplay(green_taxi_df.limit(5))"
      ],
      "metadata": {},
      "outputs": [
        {
          "metadata": {},
          "output_type": "display_data",
          "data": {
            "text/html": [
              "<style scoped>\n  .table-result-container {\n    max-height: 300px;\n    overflow: auto;\n  }\n  table, th, td {\n    border: 1px solid black;\n    border-collapse: collapse;\n  }\n  th, td {\n    padding: 5px;\n  }\n  th {\n    text-align: left;\n  }\n</style><div class='table-result-container'><table class='table-result'><thead style='background-color: white'><tr><th>vendorID</th><th>lpepPickupDatetime</th><th>lpepDropoffDatetime</th><th>passengerCount</th><th>tripDistance</th><th>puLocationId</th><th>doLocationId</th><th>pickupLongitude</th><th>pickupLatitude</th><th>dropoffLongitude</th><th>dropoffLatitude</th><th>rateCodeID</th><th>storeAndFwdFlag</th><th>paymentType</th><th>fareAmount</th><th>extra</th><th>mtaTax</th><th>improvementSurcharge</th><th>tipAmount</th><th>tollsAmount</th><th>ehailFee</th><th>totalAmount</th><th>tripType</th><th>puYear</th><th>puMonth</th><th>lat</th><th>long</th></tr></thead><tbody><tr><td>1</td><td>2016-01-18T17:14:03.000+0000</td><td>2016-01-18T17:26:34.000+0000</td><td>1</td><td>1.6</td><td>null</td><td>null</td><td>-73.95868682861328</td><td>40.71489334106445</td><td>-73.95039367675781</td><td>40.69751739501953</td><td>1</td><td>N</td><td>2</td><td>9.5</td><td>0.0</td><td>0.5</td><td>0.3</td><td>0.0</td><td>0.0</td><td>null</td><td>10.3</td><td>1</td><td>2016</td><td>1</td><td>40.71455</td><td>-74.00712</td></tr><tr><td>2</td><td>2016-01-18T18:00:42.000+0000</td><td>2016-01-18T18:08:53.000+0000</td><td>1</td><td>1.37</td><td>null</td><td>null</td><td>-73.95466613769531</td><td>40.789363861083984</td><td>-73.95391082763672</td><td>40.77495574951172</td><td>1</td><td>N</td><td>1</td><td>7.5</td><td>0.0</td><td>0.5</td><td>0.3</td><td>1.24</td><td>0.0</td><td>null</td><td>9.54</td><td>1</td><td>2016</td><td>1</td><td>40.71455</td><td>-74.00712</td></tr><tr><td>2</td><td>2016-01-18T18:28:33.000+0000</td><td>2016-01-18T18:51:43.000+0000</td><td>1</td><td>5.52</td><td>null</td><td>null</td><td>-73.99703216552734</td><td>40.68907165527344</td><td>-73.9892349243164</td><td>40.745548248291016</td><td>1</td><td>N</td><td>1</td><td>20.0</td><td>0.0</td><td>0.5</td><td>0.3</td><td>5.0</td><td>0.0</td><td>null</td><td>25.8</td><td>1</td><td>2016</td><td>1</td><td>40.71455</td><td>-74.00712</td></tr><tr><td>2</td><td>2016-01-18T18:50:23.000+0000</td><td>2016-01-18T18:56:13.000+0000</td><td>2</td><td>1.16</td><td>null</td><td>null</td><td>-73.90315246582031</td><td>40.745941162109375</td><td>-73.91759490966797</td><td>40.744773864746094</td><td>1</td><td>N</td><td>2</td><td>6.0</td><td>0.0</td><td>0.5</td><td>0.3</td><td>0.0</td><td>0.0</td><td>null</td><td>6.8</td><td>1</td><td>2016</td><td>1</td><td>40.71455</td><td>-74.00712</td></tr><tr><td>1</td><td>2016-01-18T18:51:36.000+0000</td><td>2016-01-18T19:00:36.000+0000</td><td>1</td><td>1.6</td><td>null</td><td>null</td><td>-73.98666381835938</td><td>40.70247268676758</td><td>-73.97904968261719</td><td>40.68352127075195</td><td>1</td><td>N</td><td>1</td><td>8.0</td><td>0.0</td><td>0.5</td><td>0.3</td><td>1.2</td><td>0.0</td><td>null</td><td>10.0</td><td>1</td><td>2016</td><td>1</td><td>40.71455</td><td>-74.00712</td></tr></tbody></table></div>"
            ]
          }
        }
      ],
      "execution_count": 9
    },
    {
      "cell_type": "markdown",
      "source": [
        "Initialize LocationTimeCustomerData using pandas dataframe green_taxi."
      ],
      "metadata": {}
    },
    {
      "cell_type": "code",
      "source": [
        "from azureml.opendatasets.accessories.location_data import LatLongColumn\nfrom azureml.opendatasets.accessories.location_time_customer_data \\\n    import LocationTimeCustomerData\nfrom azureml.opendatasets import NoaaIsdWeather\n\n\ngreen_taxi = LocationTimeCustomerData(\n    green_taxi_df,\n    LatLongColumn('lat', 'long'),\n    'lpepPickupDatetime')"
      ],
      "metadata": {},
      "outputs": [
        {
          "metadata": {},
          "output_type": "display_data",
          "data": {
            "text/html": [
              "<style scoped>\n  .ansiout {\n    display: block;\n    unicode-bidi: embed;\n    white-space: pre-wrap;\n    word-wrap: break-word;\n    word-break: break-all;\n    font-family: \"Source Code Pro\", \"Menlo\", monospace;;\n    font-size: 13px;\n    color: #555;\n    margin-left: 4px;\n    line-height: 19px;\n  }\n</style>\n<div class=\"ansiout\"></div>"
            ]
          }
        }
      ],
      "execution_count": 11
    },
    {
      "cell_type": "code",
      "source": [
        "spark.conf.set('spark.sql.crossJoin.enabled', 'true')"
      ],
      "metadata": {},
      "outputs": [],
      "execution_count": 12
    },
    {
      "cell_type": "markdown",
      "source": [
        "Initialize NoaaIsdWeather class, get enricher from it, and enrich the taxi data without aggregation"
      ],
      "metadata": {}
    },
    {
      "cell_type": "code",
      "source": [
        "weather = NoaaIsdWeather(\n    cols=[\"temperature\", \"precipTime\", \"precipDepth\", \"snowDepth\"],\n    start_date=datetime(2016, 1, 1, 0, 0),\n    end_date=datetime(2016, 2, 28, 23, 59))\nweather_enricher = weather.get_enricher()\nnew_green_taxi, processed_weather = weather_enricher.enrich_customer_data_no_agg(\n    customer_data_object=green_taxi,\n    location_match_granularity=5,\n    time_round_granularity='day')"
      ],
      "metadata": {},
      "outputs": [
        {
          "metadata": {},
          "output_type": "display_data",
          "data": {
            "text/html": [
              "<style scoped>\n  .ansiout {\n    display: block;\n    unicode-bidi: embed;\n    white-space: pre-wrap;\n    word-wrap: break-word;\n    word-break: break-all;\n    font-family: \"Source Code Pro\", \"Menlo\", monospace;;\n    font-size: 13px;\n    color: #555;\n    margin-left: 4px;\n    line-height: 19px;\n  }\n</style>\n<div class=\"ansiout\">ActivityStarted, get_enricher\nActivityCompleted: Activity=get_enricher, HowEnded=Success, Duration=1.93 [ms]\nActivityStarted, enrich_customer_data_no_agg\nActivityStarted, enrich\nActivityCompleted: Activity=enrich, HowEnded=Success, Duration=217158.82 [ms]\nActivityCompleted: Activity=enrich_customer_data_no_agg, HowEnded=Success, Duration=217161.48 [ms]\n</div>"
            ]
          }
        }
      ],
      "execution_count": 14
    },
    {
      "cell_type": "markdown",
      "source": [
        "Preview the pandas dataframe new_green_taxi.data"
      ],
      "metadata": {}
    },
    {
      "cell_type": "code",
      "source": [
        "display(new_green_taxi.data.limit(3))"
      ],
      "metadata": {},
      "outputs": [
        {
          "metadata": {},
          "output_type": "display_data",
          "data": {
            "text/html": [
              "<style scoped>\n  .table-result-container {\n    max-height: 300px;\n    overflow: auto;\n  }\n  table, th, td {\n    border: 1px solid black;\n    border-collapse: collapse;\n  }\n  th, td {\n    padding: 5px;\n  }\n  th {\n    text-align: left;\n  }\n</style><div class='table-result-container'><table class='table-result'><thead style='background-color: white'><tr><th>lat</th><th>long</th><th>vendorID</th><th>lpepPickupDatetime</th><th>lpepDropoffDatetime</th><th>passengerCount</th><th>tripDistance</th><th>puLocationId</th><th>doLocationId</th><th>pickupLongitude</th><th>pickupLatitude</th><th>dropoffLongitude</th><th>dropoffLatitude</th><th>rateCodeID</th><th>storeAndFwdFlag</th><th>paymentType</th><th>fareAmount</th><th>extra</th><th>mtaTax</th><th>improvementSurcharge</th><th>tipAmount</th><th>tollsAmount</th><th>ehailFee</th><th>totalAmount</th><th>tripType</th><th>puYear</th><th>puMonth</th><th>row_id</th><th>customer_rankgrouprbzmn</th><th>customer_join_time1v3cp</th></tr></thead><tbody><tr><td>40.71455</td><td>-74.00712</td><td>1</td><td>2016-01-18T17:14:03.000+0000</td><td>2016-01-18T17:26:34.000+0000</td><td>1</td><td>1.6</td><td>null</td><td>null</td><td>-73.95868682861328</td><td>40.71489334106445</td><td>-73.95039367675781</td><td>40.69751739501953</td><td>1</td><td>N</td><td>2</td><td>9.5</td><td>0.0</td><td>0.5</td><td>0.3</td><td>0.0</td><td>0.0</td><td>null</td><td>10.3</td><td>1</td><td>2016</td><td>1</td><td>77309411328</td><td>1</td><td>2016-01-18T00:00:00.000+0000</td></tr><tr><td>40.71455</td><td>-74.00712</td><td>2</td><td>2016-01-18T18:00:42.000+0000</td><td>2016-01-18T18:08:53.000+0000</td><td>1</td><td>1.37</td><td>null</td><td>null</td><td>-73.95466613769531</td><td>40.789363861083984</td><td>-73.95391082763672</td><td>40.77495574951172</td><td>1</td><td>N</td><td>1</td><td>7.5</td><td>0.0</td><td>0.5</td><td>0.3</td><td>1.24</td><td>0.0</td><td>null</td><td>9.54</td><td>1</td><td>2016</td><td>1</td><td>77309411329</td><td>1</td><td>2016-01-18T00:00:00.000+0000</td></tr><tr><td>40.71455</td><td>-74.00712</td><td>2</td><td>2016-01-18T18:28:33.000+0000</td><td>2016-01-18T18:51:43.000+0000</td><td>1</td><td>5.52</td><td>null</td><td>null</td><td>-73.99703216552734</td><td>40.68907165527344</td><td>-73.9892349243164</td><td>40.745548248291016</td><td>1</td><td>N</td><td>1</td><td>20.0</td><td>0.0</td><td>0.5</td><td>0.3</td><td>5.0</td><td>0.0</td><td>null</td><td>25.8</td><td>1</td><td>2016</td><td>1</td><td>77309411330</td><td>1</td><td>2016-01-18T00:00:00.000+0000</td></tr></tbody></table></div>"
            ]
          }
        }
      ],
      "execution_count": 16
    },
    {
      "cell_type": "markdown",
      "source": [
        "Define a dict `aggregations` to define how to aggregate each field at a hour level. For `snowDepth` and `temperature` we'll take the mean and for `precipTime` and `precipDepth` we'll take the hourly maximum. Use the groupby() function along with the aggregations to group data."
      ],
      "metadata": {}
    },
    {
      "cell_type": "code",
      "source": [
        "aggregations = {\n    \"snowDepth\": \"mean\",\n    \"precipTime\": \"max\",\n    \"temperature\": \"mean\",\n    \"precipDepth\": \"max\"}"
      ],
      "metadata": {},
      "outputs": [
        {
          "metadata": {},
          "output_type": "display_data",
          "data": {
            "text/html": [
              "<style scoped>\n  .ansiout {\n    display: block;\n    unicode-bidi: embed;\n    white-space: pre-wrap;\n    word-wrap: break-word;\n    word-break: break-all;\n    font-family: \"Source Code Pro\", \"Menlo\", monospace;;\n    font-size: 13px;\n    color: #555;\n    margin-left: 4px;\n    line-height: 19px;\n  }\n</style>\n<div class=\"ansiout\"></div>"
            ]
          }
        }
      ],
      "execution_count": 18
    },
    {
      "cell_type": "markdown",
      "source": [
        "The keys (`public_rankgroup`, `public_join_time`, `customer_rankgroup`, `customer_join_time`) used by groupby() and later merge() must be hacked here due to the current design."
      ],
      "metadata": {}
    },
    {
      "cell_type": "code",
      "source": [
        "public_rankgroup = processed_weather.id\n\npublic_join_time = [\n    s for s in list(processed_weather.data.columns)\n    if s.startswith('ds_join_time')][0]\n\ncustomer_rankgroup = weather_enricher.location_selector.customer_rankgroup\n\ncustomer_join_time = [\n    s for s in list(new_green_taxi.data.columns)\n    if type(s) is str and s.startswith('customer_join_time')][0]\n\nweather_df_grouped = processed_weather.data.groupby(public_rankgroup, public_join_time).agg(aggregations)\ndisplay(weather_df_grouped.limit(3))"
      ],
      "metadata": {},
      "outputs": [
        {
          "metadata": {},
          "output_type": "display_data",
          "data": {
            "text/html": [
              "<style scoped>\n  .table-result-container {\n    max-height: 300px;\n    overflow: auto;\n  }\n  table, th, td {\n    border: 1px solid black;\n    border-collapse: collapse;\n  }\n  th, td {\n    padding: 5px;\n  }\n  th {\n    text-align: left;\n  }\n</style><div class='table-result-container'><table class='table-result'><thead style='background-color: white'><tr><th>public_rankgroup1qf8h</th><th>ds_join_timevotkg</th><th>avg(snowDepth)</th><th>avg(temperature)</th><th>max(precipDepth)</th><th>max(precipTime)</th></tr></thead><tbody><tr><td>1</td><td>2016-01-13T00:00:00.000+0000</td><td>0.0</td><td>-2.2664285714285732</td><td>3.0</td><td>24.0</td></tr><tr><td>1</td><td>2016-02-07T00:00:00.000+0000</td><td>1.8</td><td>3.8400000000000007</td><td>0.0</td><td>24.0</td></tr><tr><td>1</td><td>2016-01-21T00:00:00.000+0000</td><td>0.0</td><td>-0.07226277372262757</td><td>0.0</td><td>24.0</td></tr></tbody></table></div>"
            ]
          }
        }
      ],
      "execution_count": 20
    },
    {
      "cell_type": "markdown",
      "source": [
        "Join the final dataframe, and preview the joined result."
      ],
      "metadata": {}
    },
    {
      "cell_type": "code",
      "source": [
        "taxi_df = new_green_taxi.data\njoined_dataset = taxi_df.join(\n    weather_df_grouped,\n    [taxi_df[customer_rankgroup] == weather_df_grouped[public_rankgroup],\n     taxi_df[customer_join_time] == weather_df_grouped[public_join_time]],\n    how='left')\n\nfinal_df = joined_dataset.select(raw_columns + [\n    \"avg(temperature)\", \"max(precipTime)\", \"max(precipDepth)\", \"avg(snowDepth)\"])\ndisplay(final_df.limit(5))"
      ],
      "metadata": {},
      "outputs": [
        {
          "metadata": {},
          "output_type": "display_data",
          "data": {
            "text/html": [
              "<style scoped>\n  .table-result-container {\n    max-height: 300px;\n    overflow: auto;\n  }\n  table, th, td {\n    border: 1px solid black;\n    border-collapse: collapse;\n  }\n  th, td {\n    padding: 5px;\n  }\n  th {\n    text-align: left;\n  }\n</style><div class='table-result-container'><table class='table-result'><thead style='background-color: white'><tr><th>vendorID</th><th>lpepPickupDatetime</th><th>lpepDropoffDatetime</th><th>passengerCount</th><th>tripDistance</th><th>puLocationId</th><th>doLocationId</th><th>pickupLongitude</th><th>pickupLatitude</th><th>dropoffLongitude</th><th>dropoffLatitude</th><th>rateCodeID</th><th>storeAndFwdFlag</th><th>paymentType</th><th>fareAmount</th><th>extra</th><th>mtaTax</th><th>improvementSurcharge</th><th>tipAmount</th><th>tollsAmount</th><th>ehailFee</th><th>totalAmount</th><th>tripType</th><th>puYear</th><th>puMonth</th><th>avg(temperature)</th><th>max(precipTime)</th><th>max(precipDepth)</th><th>avg(snowDepth)</th></tr></thead><tbody><tr><td>2</td><td>2016-01-13T00:56:41.000+0000</td><td>2016-01-13T01:05:00.000+0000</td><td>1</td><td>1.85</td><td>null</td><td>null</td><td>-73.95475006103516</td><td>40.687801361083984</td><td>-73.95307922363281</td><td>40.70832824707031</td><td>1</td><td>N</td><td>1</td><td>8.5</td><td>0.5</td><td>0.5</td><td>0.3</td><td>1.2</td><td>0.0</td><td>null</td><td>11.0</td><td>1</td><td>2016</td><td>1</td><td>-2.2664285714285732</td><td>24.0</td><td>3.0</td><td>0.0</td></tr><tr><td>2</td><td>2016-01-13T01:46:31.000+0000</td><td>2016-01-13T01:53:55.000+0000</td><td>1</td><td>1.75</td><td>null</td><td>null</td><td>-73.8910903930664</td><td>40.74677658081055</td><td>-73.88246154785156</td><td>40.7307014465332</td><td>1</td><td>N</td><td>2</td><td>8.0</td><td>0.5</td><td>0.5</td><td>0.3</td><td>0.0</td><td>0.0</td><td>null</td><td>9.3</td><td>1</td><td>2016</td><td>1</td><td>-2.2664285714285732</td><td>24.0</td><td>3.0</td><td>0.0</td></tr><tr><td>1</td><td>2016-01-13T01:49:57.000+0000</td><td>2016-01-13T01:56:53.000+0000</td><td>2</td><td>1.4</td><td>null</td><td>null</td><td>-73.8910903930664</td><td>40.74702453613281</td><td>-73.86837768554688</td><td>40.75227355957031</td><td>1</td><td>N</td><td>2</td><td>7.0</td><td>0.5</td><td>0.5</td><td>0.3</td><td>0.0</td><td>0.0</td><td>null</td><td>8.3</td><td>1</td><td>2016</td><td>1</td><td>-2.2664285714285732</td><td>24.0</td><td>3.0</td><td>0.0</td></tr><tr><td>1</td><td>2016-01-13T01:41:11.000+0000</td><td>2016-01-13T02:02:37.000+0000</td><td>3</td><td>6.1</td><td>null</td><td>null</td><td>-73.95850372314453</td><td>40.719234466552734</td><td>-74.001708984375</td><td>40.73370361328125</td><td>1</td><td>N</td><td>2</td><td>21.0</td><td>0.5</td><td>0.5</td><td>0.3</td><td>0.0</td><td>0.0</td><td>null</td><td>22.3</td><td>1</td><td>2016</td><td>1</td><td>-2.2664285714285732</td><td>24.0</td><td>3.0</td><td>0.0</td></tr><tr><td>2</td><td>2016-01-13T04:17:12.000+0000</td><td>2016-01-13T04:25:11.000+0000</td><td>1</td><td>1.07</td><td>null</td><td>null</td><td>-73.89081573486328</td><td>40.746795654296875</td><td>-73.87198638916016</td><td>40.746891021728516</td><td>1</td><td>N</td><td>2</td><td>6.5</td><td>0.5</td><td>0.5</td><td>0.3</td><td>0.0</td><td>0.0</td><td>null</td><td>7.8</td><td>1</td><td>2016</td><td>1</td><td>-2.2664285714285732</td><td>24.0</td><td>3.0</td><td>0.0</td></tr></tbody></table></div>"
            ]
          }
        }
      ],
      "execution_count": 22
    },
    {
      "cell_type": "markdown",
      "source": [
        "Check the join success rate."
      ],
      "metadata": {}
    },
    {
      "cell_type": "code",
      "source": [
        "final_df.toPandas().info()"
      ],
      "metadata": {},
      "outputs": [
        {
          "metadata": {},
          "output_type": "display_data",
          "data": {
            "text/html": [
              "<style scoped>\n  .ansiout {\n    display: block;\n    unicode-bidi: embed;\n    white-space: pre-wrap;\n    word-wrap: break-word;\n    word-break: break-all;\n    font-family: \"Source Code Pro\", \"Menlo\", monospace;;\n    font-size: 13px;\n    color: #555;\n    margin-left: 4px;\n    line-height: 19px;\n  }\n</style>\n<div class=\"ansiout\">&lt;class &apos;pandas.core.frame.DataFrame&apos;&gt;\nRangeIndex: 2842 entries, 0 to 2841\nData columns (total 29 columns):\nvendorID                2842 non-null int32\nlpepPickupDatetime      2842 non-null datetime64[ns]\nlpepDropoffDatetime     2842 non-null datetime64[ns]\npassengerCount          2842 non-null int32\ntripDistance            2842 non-null float64\npuLocationId            0 non-null object\ndoLocationId            0 non-null object\npickupLongitude         2842 non-null float64\npickupLatitude          2842 non-null float64\ndropoffLongitude        2842 non-null float64\ndropoffLatitude         2842 non-null float64\nrateCodeID              2842 non-null int32\nstoreAndFwdFlag         2842 non-null object\npaymentType             2842 non-null int32\nfareAmount              2842 non-null float64\nextra                   2842 non-null float64\nmtaTax                  2842 non-null float64\nimprovementSurcharge    2842 non-null object\ntipAmount               2842 non-null float64\ntollsAmount             2842 non-null float64\nehailFee                0 non-null object\ntotalAmount             2842 non-null float64\ntripType                2842 non-null int32\npuYear                  2842 non-null int32\npuMonth                 2842 non-null int32\navg(temperature)        2842 non-null float64\nmax(precipTime)         2842 non-null float64\nmax(precipDepth)        2842 non-null float64\navg(snowDepth)          2842 non-null float64\ndtypes: datetime64[ns](2), float64(15), int32(7), object(5)\nmemory usage: 566.3+ KB\n</div>"
            ]
          }
        }
      ],
      "execution_count": 24
    },
    {
      "cell_type": "code",
      "source": [
        "final_df.createOrReplaceTempView('joined_df')"
      ],
      "metadata": {},
      "outputs": [
        {
          "metadata": {},
          "output_type": "display_data",
          "data": {
            "text/html": [
              "<style scoped>\n  .ansiout {\n    display: block;\n    unicode-bidi: embed;\n    white-space: pre-wrap;\n    word-wrap: break-word;\n    word-break: break-all;\n    font-family: \"Source Code Pro\", \"Menlo\", monospace;;\n    font-size: 13px;\n    color: #555;\n    margin-left: 4px;\n    line-height: 19px;\n  }\n</style>\n<div class=\"ansiout\"></div>"
            ]
          }
        }
      ],
      "execution_count": 25
    },
    {
      "cell_type": "code",
      "source": [
        "%sql\nselect * from joined_df\nwhere lpepPickupDatetime >= '2016-01-26' and lpepPickupDatetime < '2016-01-27'\norder by lpepPickupDatetime limit 5"
      ],
      "metadata": {},
      "outputs": [
        {
          "metadata": {},
          "output_type": "display_data",
          "data": {
            "text/html": [
              "<style scoped>\n  .table-result-container {\n    max-height: 300px;\n    overflow: auto;\n  }\n  table, th, td {\n    border: 1px solid black;\n    border-collapse: collapse;\n  }\n  th, td {\n    padding: 5px;\n  }\n  th {\n    text-align: left;\n  }\n</style><div class='table-result-container'><table class='table-result'><thead style='background-color: white'><tr><th>vendorID</th><th>lpepPickupDatetime</th><th>lpepDropoffDatetime</th><th>passengerCount</th><th>tripDistance</th><th>puLocationId</th><th>doLocationId</th><th>pickupLongitude</th><th>pickupLatitude</th><th>dropoffLongitude</th><th>dropoffLatitude</th><th>rateCodeID</th><th>storeAndFwdFlag</th><th>paymentType</th><th>fareAmount</th><th>extra</th><th>mtaTax</th><th>improvementSurcharge</th><th>tipAmount</th><th>tollsAmount</th><th>ehailFee</th><th>totalAmount</th><th>tripType</th><th>puYear</th><th>puMonth</th><th>avg(temperature)</th><th>max(precipTime)</th><th>max(precipDepth)</th><th>avg(snowDepth)</th></tr></thead><tbody><tr><td>2</td><td>2016-01-26T00:02:33.000+0000</td><td>2016-01-26T00:16:54.000+0000</td><td>2</td><td>3.27</td><td>null</td><td>null</td><td>-73.95603942871094</td><td>40.71393966674805</td><td>-73.90204620361328</td><td>40.70497131347656</td><td>1</td><td>N</td><td>2</td><td>12.5</td><td>0.5</td><td>0.5</td><td>0.3</td><td>0.0</td><td>0.0</td><td>null</td><td>13.8</td><td>1</td><td>2016</td><td>1</td><td>4.209285714285715</td><td>24.0</td><td>0.0</td><td>40.06896551724138</td></tr><tr><td>2</td><td>2016-01-26T01:50:11.000+0000</td><td>2016-01-26T01:56:21.000+0000</td><td>1</td><td>2.06</td><td>null</td><td>null</td><td>-73.90959930419922</td><td>40.77006530761719</td><td>-73.88544464111328</td><td>40.75567626953125</td><td>1</td><td>N</td><td>2</td><td>8.0</td><td>0.5</td><td>0.5</td><td>0.3</td><td>0.0</td><td>0.0</td><td>null</td><td>9.3</td><td>1</td><td>2016</td><td>1</td><td>4.209285714285715</td><td>24.0</td><td>0.0</td><td>40.06896551724138</td></tr><tr><td>2</td><td>2016-01-26T02:45:59.000+0000</td><td>2016-01-26T03:04:32.000+0000</td><td>1</td><td>5.59</td><td>null</td><td>null</td><td>-73.9578857421875</td><td>40.800941467285156</td><td>-73.93751525878906</td><td>40.84716033935547</td><td>1</td><td>N</td><td>1</td><td>19.5</td><td>0.5</td><td>0.5</td><td>0.3</td><td>2.0</td><td>0.0</td><td>null</td><td>22.8</td><td>1</td><td>2016</td><td>1</td><td>4.209285714285715</td><td>24.0</td><td>0.0</td><td>40.06896551724138</td></tr><tr><td>2</td><td>2016-01-26T07:35:27.000+0000</td><td>2016-01-26T08:04:34.000+0000</td><td>1</td><td>2.54</td><td>null</td><td>null</td><td>-73.95887756347656</td><td>40.6507453918457</td><td>-73.97756958007812</td><td>40.684326171875</td><td>1</td><td>N</td><td>1</td><td>18.5</td><td>0.0</td><td>0.5</td><td>0.3</td><td>0.0</td><td>0.0</td><td>null</td><td>19.3</td><td>1</td><td>2016</td><td>1</td><td>4.209285714285715</td><td>24.0</td><td>0.0</td><td>40.06896551724138</td></tr><tr><td>2</td><td>2016-01-26T08:40:46.000+0000</td><td>2016-01-26T09:24:24.000+0000</td><td>2</td><td>6.21</td><td>null</td><td>null</td><td>-73.93299102783203</td><td>40.679508209228516</td><td>-74.00007629394531</td><td>40.73252868652344</td><td>1</td><td>N</td><td>1</td><td>29.5</td><td>0.0</td><td>0.5</td><td>0.3</td><td>6.06</td><td>0.0</td><td>null</td><td>36.36</td><td>1</td><td>2016</td><td>1</td><td>4.209285714285715</td><td>24.0</td><td>0.0</td><td>40.06896551724138</td></tr></tbody></table></div>"
            ]
          }
        }
      ],
      "execution_count": 26
    }
  ],
  "metadata": {
    "kernelspec": {
      "display_name": "Python 3",
      "language": "python",
      "name": "python3"
    },
    "language_info": {
      "mimetype": "text/x-python",
      "name": "python",
      "pygments_lexer": "ipython3",
      "codemirror_mode": {
        "name": "ipython",
        "version": 3
      },
      "version": "3.6.7",
      "nbconvert_exporter": "python",
      "file_extension": ".py"
    },
    "name": "04-nyc-taxi-join-weather-in-spark",
    "notebookId": 2741195231538819
  },
  "nbformat": 4,
  "nbformat_minor": 0
}
