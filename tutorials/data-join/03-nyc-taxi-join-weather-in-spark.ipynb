{
 "cells": [
  {
   "cell_type": "markdown",
   "metadata": {},
   "source": [
    "Copyright (c) Microsoft Corporation. All rights reserved.\n\nLicensed under the MIT License."
   ]
  },
  {
   "cell_type": "markdown",
   "metadata": {},
   "source": [
    "# Tutorial: Load TAXI data and enrich it with Weather data in Pandas DataFrame"
   ]
  },
  {
   "cell_type": "markdown",
   "metadata": {},
   "source": [
    "Begin by creating a dataframe to hold the taxi data. To download 6 months of taxi data, iteratively fetch one month at a time, and before appending it to green_taxi_df randomly sample 0.1% records from the specific month to avoid bloating the dataframe."
   ]
  },
  {
   "cell_type": "code",
   "execution_count": 4,
   "metadata": {},
   "outputs": [
    {
     "data": {
      "text/html": [
       "<style scoped>\n  .ansiout {\n    display: block;\n    unicode-bidi: embed;\n    white-space: pre-wrap;\n    word-wrap: break-word;\n    word-break: break-all;\n    font-family: \"Source Code Pro\", \"Menlo\", monospace;;\n    font-size: 13px;\n    color: #555;\n    margin-left: 4px;\n    line-height: 19px;\n  }\n</style>\n<div class=\"ansiout\">ActivityStarted, to_spark_dataframe\nActivityCompleted: Activity=to_spark_dataframe, HowEnded=Success, Duration=53357.84 [ms]\nActivityStarted, to_spark_dataframe\nActivityCompleted: Activity=to_spark_dataframe, HowEnded=Success, Duration=50605.59 [ms]\nActivityStarted, to_spark_dataframe\nActivityCompleted: Activity=to_spark_dataframe, HowEnded=Success, Duration=51199.84 [ms]\nCaught request exception: hostname &apos;opendatasetwebapi.azurewebsites.net&apos; doesn&apos;t match &apos;*.azure.com&apos;\nHit exception when getting storage info from REST API, falling back to default location...\nActivityStarted, to_spark_dataframe\nCaught request exception: hostname &apos;opendatasetwebapi.azurewebsites.net&apos; doesn&apos;t match &apos;*.azure.com&apos;\nHit exception when getting storage info from REST API, falling back to default location...\nActivityCompleted: Activity=to_spark_dataframe, HowEnded=Success, Duration=51296.44 [ms]\nActivityStarted, to_spark_dataframe\nActivityCompleted: Activity=to_spark_dataframe, HowEnded=Success, Duration=51406.86 [ms]\nActivityStarted, to_spark_dataframe\nCaught request exception: hostname &apos;opendatasetwebapi.azurewebsites.net&apos; doesn&apos;t match &apos;*.azure.com&apos;\nHit exception when getting storage info from REST API, falling back to default location...\nActivityCompleted: Activity=to_spark_dataframe, HowEnded=Success, Duration=51190.05 [ms]\n</div>"
      ]
     },
     "metadata": {},
     "output_type": "display_data"
    }
   ],
   "source": [
    "import pandas as pd\nfrom datetime import datetime\nfrom dateutil.relativedelta import relativedelta\nfrom azureml.opendatasets import NycTlcGreen\nfrom functools import reduce  # For Python 3.x\nfrom pyspark.sql import DataFrame\n\n\nstart = datetime.strptime(\"1/1/2016\", \"%m/%d/%Y\")\nend = datetime.strptime(\"1/31/2016\", \"%m/%d/%Y\")\n\ndfs = []\nfor sample_month in range(6):\n    temp_df_green = NycTlcGreen(\n        start + relativedelta(months=sample_month),\n        end + relativedelta(months=sample_month)).to_spark_dataframe()\n    dfs.append(temp_df_green.sample(False, 0.001, 3))\n\ngreen_taxi_df = reduce(DataFrame.unionAll, dfs)"
   ]
  },
  {
   "cell_type": "markdown",
   "metadata": {},
   "source": [
    "Save a copy of the raw_columns name list for clean up at the last step."
   ]
  },
  {
   "cell_type": "code",
   "execution_count": 6,
   "metadata": {},
   "outputs": [
    {
     "data": {
      "text/html": [
       "<style scoped>\n  .ansiout {\n    display: block;\n    unicode-bidi: embed;\n    white-space: pre-wrap;\n    word-wrap: break-word;\n    word-break: break-all;\n    font-family: \"Source Code Pro\", \"Menlo\", monospace;;\n    font-size: 13px;\n    color: #555;\n    margin-left: 4px;\n    line-height: 19px;\n  }\n</style>\n<div class=\"ansiout\"></div>"
      ]
     },
     "metadata": {},
     "output_type": "display_data"
    }
   ],
   "source": [
    "raw_columns = list(green_taxi_df.columns)"
   ]
  },
  {
   "cell_type": "markdown",
   "metadata": {},
   "source": [
    "NYC Latitude & Longitude: (40.71455, -74.00712) found by Bing search.\n\nAdd to taxi dataframe"
   ]
  },
  {
   "cell_type": "markdown",
   "metadata": {},
   "source": [
    "Make all Latitude and Longitude be the location of New York City."
   ]
  },
  {
   "cell_type": "code",
   "execution_count": 9,
   "metadata": {},
   "outputs": [
    {
     "data": {
      "text/html": [
       "<style scoped>\n  .table-result-container {\n    max-height: 300px;\n    overflow: auto;\n  }\n  table, th, td {\n    border: 1px solid black;\n    border-collapse: collapse;\n  }\n  th, td {\n    padding: 5px;\n  }\n  th {\n    text-align: left;\n  }\n</style><div class='table-result-container'><table class='table-result'><thead style='background-color: white'><tr><th>vendorID</th><th>lpepPickupDatetime</th><th>lpepDropoffDatetime</th><th>passengerCount</th><th>tripDistance</th><th>puLocationId</th><th>doLocationId</th><th>pickupLongitude</th><th>pickupLatitude</th><th>dropoffLongitude</th><th>dropoffLatitude</th><th>rateCodeID</th><th>storeAndFwdFlag</th><th>paymentType</th><th>fareAmount</th><th>extra</th><th>mtaTax</th><th>improvementSurcharge</th><th>tipAmount</th><th>tollsAmount</th><th>ehailFee</th><th>totalAmount</th><th>tripType</th><th>puYear</th><th>puMonth</th><th>lat</th><th>long</th></tr></thead><tbody><tr><td>2</td><td>2016-01-18T17:12:47.000+0000</td><td>2016-01-18T17:19:52.000+0000</td><td>1</td><td>0.9</td><td>null</td><td>null</td><td>-73.8447265625</td><td>40.721492767333984</td><td>-73.85014343261719</td><td>40.71034622192383</td><td>1</td><td>N</td><td>1</td><td>6.5</td><td>0.0</td><td>0.5</td><td>0.3</td><td>1.0</td><td>0.0</td><td>null</td><td>8.3</td><td>1</td><td>2016</td><td>1</td><td>40.71455</td><td>-74.00712</td></tr><tr><td>2</td><td>2016-01-18T18:06:18.000+0000</td><td>2016-01-18T18:10:32.000+0000</td><td>1</td><td>0.63</td><td>null</td><td>null</td><td>-73.91937255859375</td><td>40.758548736572266</td><td>-73.91181945800781</td><td>40.76240921020508</td><td>1</td><td>N</td><td>2</td><td>4.5</td><td>0.0</td><td>0.5</td><td>0.3</td><td>0.0</td><td>0.0</td><td>null</td><td>5.3</td><td>1</td><td>2016</td><td>1</td><td>40.71455</td><td>-74.00712</td></tr><tr><td>2</td><td>2016-01-18T18:28:16.000+0000</td><td>2016-01-18T18:31:35.000+0000</td><td>1</td><td>0.44</td><td>null</td><td>null</td><td>-73.88418579101562</td><td>40.74907302856445</td><td>-73.87939453125</td><td>40.74943542480469</td><td>1</td><td>N</td><td>2</td><td>4.0</td><td>0.0</td><td>0.5</td><td>0.3</td><td>0.0</td><td>0.0</td><td>null</td><td>4.8</td><td>1</td><td>2016</td><td>1</td><td>40.71455</td><td>-74.00712</td></tr><tr><td>2</td><td>2016-01-18T18:07:07.000+0000</td><td>2016-01-18T18:10:34.000+0000</td><td>1</td><td>1.06</td><td>null</td><td>null</td><td>-73.95337677001953</td><td>40.681087493896484</td><td>-73.95209503173828</td><td>40.69267654418945</td><td>1</td><td>N</td><td>2</td><td>5.0</td><td>0.0</td><td>0.5</td><td>0.3</td><td>0.0</td><td>0.0</td><td>null</td><td>5.8</td><td>1</td><td>2016</td><td>1</td><td>40.71455</td><td>-74.00712</td></tr><tr><td>2</td><td>2016-01-18T20:01:52.000+0000</td><td>2016-01-18T20:05:42.000+0000</td><td>1</td><td>0.6</td><td>null</td><td>null</td><td>-73.96238708496094</td><td>40.80573654174805</td><td>-73.95942687988281</td><td>40.7994384765625</td><td>1</td><td>N</td><td>1</td><td>4.5</td><td>0.5</td><td>0.5</td><td>0.3</td><td>1.16</td><td>0.0</td><td>null</td><td>6.96</td><td>1</td><td>2016</td><td>1</td><td>40.71455</td><td>-74.00712</td></tr></tbody></table></div>"
      ]
     },
     "metadata": {},
     "output_type": "display_data"
    }
   ],
   "source": [
    "from pyspark.sql.functions import lit\n\nnyc_lat, nyc_long = (40.71455, -74.00712)\ngreen_taxi_df = green_taxi_df.withColumn('lat', lit(nyc_lat)).withColumn('long', lit(nyc_long))\ndisplay(green_taxi_df.limit(5))"
   ]
  },
  {
   "cell_type": "markdown",
   "metadata": {},
   "source": [
    "Initialize LocationTimeCustomerData using pandas dataframe green_taxi."
   ]
  },
  {
   "cell_type": "code",
   "execution_count": 11,
   "metadata": {},
   "outputs": [
    {
     "data": {
      "text/html": [
       "<style scoped>\n  .ansiout {\n    display: block;\n    unicode-bidi: embed;\n    white-space: pre-wrap;\n    word-wrap: break-word;\n    word-break: break-all;\n    font-family: \"Source Code Pro\", \"Menlo\", monospace;;\n    font-size: 13px;\n    color: #555;\n    margin-left: 4px;\n    line-height: 19px;\n  }\n</style>\n<div class=\"ansiout\"></div>"
      ]
     },
     "metadata": {},
     "output_type": "display_data"
    }
   ],
   "source": [
    "from azureml.opendatasets.accessories.location_data import LatLongColumn\nfrom azureml.opendatasets.accessories.location_time_customer_data \\\n    import LocationTimeCustomerData\nfrom azureml.opendatasets import NoaaIsdWeather\n\n\ngreen_taxi = LocationTimeCustomerData(\n    green_taxi_df,\n    LatLongColumn('lat', 'long'),\n    'lpepPickupDatetime')"
   ]
  },
  {
   "cell_type": "code",
   "execution_count": 12,
   "metadata": {},
   "outputs": [
    {
     "data": {
      "text/html": [
       "<style scoped>\n  .ansiout {\n    display: block;\n    unicode-bidi: embed;\n    white-space: pre-wrap;\n    word-wrap: break-word;\n    word-break: break-all;\n    font-family: \"Source Code Pro\", \"Menlo\", monospace;;\n    font-size: 13px;\n    color: #555;\n    margin-left: 4px;\n    line-height: 19px;\n  }\n</style>\n<div class=\"ansiout\"></div>"
      ]
     },
     "metadata": {},
     "output_type": "display_data"
    }
   ],
   "source": [
    "spark.conf.set('spark.sql.crossJoin.enabled', 'true')"
   ]
  },
  {
   "cell_type": "markdown",
   "metadata": {},
   "source": [
    "Initialize NoaaIsdWeather class, get enricher from it, and enrich the taxi data without aggregation"
   ]
  },
  {
   "cell_type": "code",
   "execution_count": 14,
   "metadata": {},
   "outputs": [
    {
     "data": {
      "text/html": [
       "<style scoped>\n  .ansiout {\n    display: block;\n    unicode-bidi: embed;\n    white-space: pre-wrap;\n    word-wrap: break-word;\n    word-break: break-all;\n    font-family: \"Source Code Pro\", \"Menlo\", monospace;;\n    font-size: 13px;\n    color: #555;\n    margin-left: 4px;\n    line-height: 19px;\n  }\n</style>\n<div class=\"ansiout\">Caught request exception: hostname &apos;opendatasetwebapi.azurewebsites.net&apos; doesn&apos;t match &apos;*.azure.com&apos;\nHit exception when getting storage info from REST API, falling back to default location...\nActivityStarted, get_enricher\nActivityCompleted: Activity=get_enricher, HowEnded=Success, Duration=1.71 [ms]\nActivityStarted, enrich_customer_data_no_agg\nActivityStarted, enrich\nActivityCompleted: Activity=enrich, HowEnded=Success, Duration=263148.97 [ms]\nActivityCompleted: Activity=enrich_customer_data_no_agg, HowEnded=Success, Duration=263150.58 [ms]\n</div>"
      ]
     },
     "metadata": {},
     "output_type": "display_data"
    }
   ],
   "source": [
    "weather = NoaaIsdWeather(\n    cols=[\"temperature\", \"precipTime\", \"precipDepth\", \"snowDepth\"],\n    start_date=datetime(2016, 1, 1, 0, 0),\n    end_date=datetime(2016, 6, 30, 23, 59))\nweather_enricher = weather.get_enricher()\nnew_green_taxi, processed_weather = weather_enricher.enrich_customer_data_no_agg(\n    customer_data_object=green_taxi,\n    location_match_granularity=5,\n    time_round_granularity='day')"
   ]
  },
  {
   "cell_type": "markdown",
   "metadata": {},
   "source": [
    "Preview the pandas dataframe new_green_taxi.data"
   ]
  },
  {
   "cell_type": "code",
   "execution_count": 16,
   "metadata": {},
   "outputs": [
    {
     "data": {
      "text/html": [
       "<style scoped>\n  .table-result-container {\n    max-height: 300px;\n    overflow: auto;\n  }\n  table, th, td {\n    border: 1px solid black;\n    border-collapse: collapse;\n  }\n  th, td {\n    padding: 5px;\n  }\n  th {\n    text-align: left;\n  }\n</style><div class='table-result-container'><table class='table-result'><thead style='background-color: white'><tr><th>lat</th><th>long</th><th>vendorID</th><th>lpepPickupDatetime</th><th>lpepDropoffDatetime</th><th>passengerCount</th><th>tripDistance</th><th>puLocationId</th><th>doLocationId</th><th>pickupLongitude</th><th>pickupLatitude</th><th>dropoffLongitude</th><th>dropoffLatitude</th><th>rateCodeID</th><th>storeAndFwdFlag</th><th>paymentType</th><th>fareAmount</th><th>extra</th><th>mtaTax</th><th>improvementSurcharge</th><th>tipAmount</th><th>tollsAmount</th><th>ehailFee</th><th>totalAmount</th><th>tripType</th><th>puYear</th><th>puMonth</th><th>row_id</th><th>customer_rankgroupp6tnp</th><th>customer_join_timeii4qk</th></tr></thead><tbody><tr><td>40.71455</td><td>-74.00712</td><td>2</td><td>2016-01-18T17:12:47.000+0000</td><td>2016-01-18T17:19:52.000+0000</td><td>1</td><td>0.9</td><td>null</td><td>null</td><td>-73.8447265625</td><td>40.721492767333984</td><td>-73.85014343261719</td><td>40.71034622192383</td><td>1</td><td>N</td><td>1</td><td>6.5</td><td>0.0</td><td>0.5</td><td>0.3</td><td>1.0</td><td>0.0</td><td>null</td><td>8.3</td><td>1</td><td>2016</td><td>1</td><td>163208757248</td><td>1</td><td>2016-01-18T00:00:00.000+0000</td></tr><tr><td>40.71455</td><td>-74.00712</td><td>2</td><td>2016-01-18T18:06:18.000+0000</td><td>2016-01-18T18:10:32.000+0000</td><td>1</td><td>0.63</td><td>null</td><td>null</td><td>-73.91937255859375</td><td>40.758548736572266</td><td>-73.91181945800781</td><td>40.76240921020508</td><td>1</td><td>N</td><td>2</td><td>4.5</td><td>0.0</td><td>0.5</td><td>0.3</td><td>0.0</td><td>0.0</td><td>null</td><td>5.3</td><td>1</td><td>2016</td><td>1</td><td>163208757249</td><td>1</td><td>2016-01-18T00:00:00.000+0000</td></tr><tr><td>40.71455</td><td>-74.00712</td><td>2</td><td>2016-01-18T18:28:16.000+0000</td><td>2016-01-18T18:31:35.000+0000</td><td>1</td><td>0.44</td><td>null</td><td>null</td><td>-73.88418579101562</td><td>40.74907302856445</td><td>-73.87939453125</td><td>40.74943542480469</td><td>1</td><td>N</td><td>2</td><td>4.0</td><td>0.0</td><td>0.5</td><td>0.3</td><td>0.0</td><td>0.0</td><td>null</td><td>4.8</td><td>1</td><td>2016</td><td>1</td><td>163208757250</td><td>1</td><td>2016-01-18T00:00:00.000+0000</td></tr></tbody></table></div>"
      ]
     },
     "metadata": {},
     "output_type": "display_data"
    }
   ],
   "source": [
    "display(new_green_taxi.data.limit(3))"
   ]
  },
  {
   "cell_type": "markdown",
   "metadata": {},
   "source": [
    "Define a dict `aggregations` to define how to aggregate each field at a hour level. For `snowDepth` and `temperature` we'll take the mean and for `precipTime` and `precipDepth` we'll take the hourly maximum. Use the groupby() function along with the aggregations to group data."
   ]
  },
  {
   "cell_type": "code",
   "execution_count": 18,
   "metadata": {},
   "outputs": [
    {
     "data": {
      "text/html": [
       "<style scoped>\n  .ansiout {\n    display: block;\n    unicode-bidi: embed;\n    white-space: pre-wrap;\n    word-wrap: break-word;\n    word-break: break-all;\n    font-family: \"Source Code Pro\", \"Menlo\", monospace;;\n    font-size: 13px;\n    color: #555;\n    margin-left: 4px;\n    line-height: 19px;\n  }\n</style>\n<div class=\"ansiout\"></div>"
      ]
     },
     "metadata": {},
     "output_type": "display_data"
    }
   ],
   "source": [
    "aggregations = {\n    \"snowDepth\": \"mean\",\n    \"precipTime\": \"max\",\n    \"temperature\": \"mean\",\n    \"precipDepth\": \"max\"}"
   ]
  },
  {
   "cell_type": "markdown",
   "metadata": {},
   "source": [
    "The keys (`public_rankgroup`, `public_join_time`, `customer_rankgroup`, `customer_join_time`) used by groupby() and later merge() must be hacked here due to the current design."
   ]
  },
  {
   "cell_type": "code",
   "execution_count": 20,
   "metadata": {},
   "outputs": [
    {
     "data": {
      "text/html": [
       "<style scoped>\n  .table-result-container {\n    max-height: 300px;\n    overflow: auto;\n  }\n  table, th, td {\n    border: 1px solid black;\n    border-collapse: collapse;\n  }\n  th, td {\n    padding: 5px;\n  }\n  th {\n    text-align: left;\n  }\n</style><div class='table-result-container'><table class='table-result'><thead style='background-color: white'><tr><th>public_rankgroup87h2r</th><th>ds_join_timezkxf1</th><th>avg(snowDepth)</th><th>avg(temperature)</th><th>max(precipTime)</th><th>max(precipDepth)</th></tr></thead><tbody><tr><td>1</td><td>2016-03-14T00:00:00.000+0000</td><td>0.0</td><td>7.918023255813954</td><td>24.0</td><td>100.0</td></tr><tr><td>1</td><td>2016-01-13T00:00:00.000+0000</td><td>0.0</td><td>-2.266428571428573</td><td>24.0</td><td>3.0</td></tr><tr><td>1</td><td>2016-05-15T00:00:00.000+0000</td><td>0.0</td><td>12.797058823529422</td><td>24.0</td><td>0.0</td></tr></tbody></table></div>"
      ]
     },
     "metadata": {},
     "output_type": "display_data"
    }
   ],
   "source": [
    "public_rankgroup = processed_weather.id\n\npublic_join_time = [\n    s for s in list(processed_weather.data.columns)\n    if s.startswith('ds_join_time')][0]\n\ncustomer_rankgroup = weather_enricher.location_selector.customer_rankgroup\n\ncustomer_join_time = [\n    s for s in list(new_green_taxi.data.columns)\n    if type(s) is str and s.startswith('customer_join_time')][0]\n\nweather_df_grouped = processed_weather.data.groupby(public_rankgroup, public_join_time).agg(aggregations)\ndisplay(weather_df_grouped.limit(3))"
   ]
  },
  {
   "cell_type": "markdown",
   "metadata": {},
   "source": [
    "Join the final dataframe, and preview the joined result."
   ]
  },
  {
   "cell_type": "code",
   "execution_count": 22,
   "metadata": {},
   "outputs": [
    {
     "data": {
      "text/html": [
       "<style scoped>\n  .table-result-container {\n    max-height: 300px;\n    overflow: auto;\n  }\n  table, th, td {\n    border: 1px solid black;\n    border-collapse: collapse;\n  }\n  th, td {\n    padding: 5px;\n  }\n  th {\n    text-align: left;\n  }\n</style><div class='table-result-container'><table class='table-result'><thead style='background-color: white'><tr><th>vendorID</th><th>lpepPickupDatetime</th><th>lpepDropoffDatetime</th><th>passengerCount</th><th>tripDistance</th><th>puLocationId</th><th>doLocationId</th><th>pickupLongitude</th><th>pickupLatitude</th><th>dropoffLongitude</th><th>dropoffLatitude</th><th>rateCodeID</th><th>storeAndFwdFlag</th><th>paymentType</th><th>fareAmount</th><th>extra</th><th>mtaTax</th><th>improvementSurcharge</th><th>tipAmount</th><th>tollsAmount</th><th>ehailFee</th><th>totalAmount</th><th>tripType</th><th>puYear</th><th>puMonth</th><th>avg(temperature)</th><th>max(precipTime)</th><th>max(precipDepth)</th><th>avg(snowDepth)</th></tr></thead><tbody><tr><td>2</td><td>2016-03-14T00:06:39.000+0000</td><td>2016-03-14T00:22:51.000+0000</td><td>1</td><td>1.76</td><td>null</td><td>null</td><td>-73.95321655273438</td><td>40.73318099975586</td><td>-73.95167541503906</td><td>40.71426010131836</td><td>1</td><td>N</td><td>2</td><td>12.0</td><td>0.5</td><td>0.5</td><td>0.3</td><td>0.0</td><td>0.0</td><td>null</td><td>13.3</td><td>1</td><td>2016</td><td>3</td><td>7.918023255813954</td><td>24.0</td><td>100.0</td><td>0.0</td></tr><tr><td>2</td><td>2016-03-14T00:41:53.000+0000</td><td>2016-03-14T00:50:22.000+0000</td><td>1</td><td>1.85</td><td>null</td><td>null</td><td>-73.9336929321289</td><td>40.85436248779297</td><td>-73.94861602783203</td><td>40.82904815673828</td><td>1</td><td>N</td><td>2</td><td>8.5</td><td>0.5</td><td>0.5</td><td>0.3</td><td>0.0</td><td>0.0</td><td>null</td><td>9.8</td><td>1</td><td>2016</td><td>3</td><td>7.918023255813954</td><td>24.0</td><td>100.0</td><td>0.0</td></tr><tr><td>2</td><td>2016-03-14T00:54:47.000+0000</td><td>2016-03-14T01:02:37.000+0000</td><td>5</td><td>2.57</td><td>null</td><td>null</td><td>-73.95768737792969</td><td>40.816192626953125</td><td>-73.97406005859375</td><td>40.79408645629883</td><td>1</td><td>N</td><td>2</td><td>9.5</td><td>0.5</td><td>0.5</td><td>0.3</td><td>0.0</td><td>0.0</td><td>null</td><td>10.8</td><td>1</td><td>2016</td><td>3</td><td>7.918023255813954</td><td>24.0</td><td>100.0</td><td>0.0</td></tr><tr><td>1</td><td>2016-03-14T01:07:20.000+0000</td><td>2016-03-14T01:11:06.000+0000</td><td>1</td><td>0.7</td><td>null</td><td>null</td><td>-73.86914825439453</td><td>40.74928283691406</td><td>-73.88216400146484</td><td>40.74787902832031</td><td>1</td><td>N</td><td>2</td><td>4.5</td><td>0.5</td><td>0.5</td><td>0.3</td><td>0.0</td><td>0.0</td><td>null</td><td>5.8</td><td>1</td><td>2016</td><td>3</td><td>7.918023255813954</td><td>24.0</td><td>100.0</td><td>0.0</td></tr><tr><td>2</td><td>2016-03-14T07:30:54.000+0000</td><td>2016-03-14T07:59:29.000+0000</td><td>1</td><td>7.3</td><td>null</td><td>null</td><td>-73.98673248291016</td><td>40.688568115234375</td><td>-73.97416687011719</td><td>40.7547607421875</td><td>1</td><td>N</td><td>1</td><td>24.5</td><td>0.0</td><td>0.5</td><td>0.3</td><td>2.5</td><td>0.0</td><td>null</td><td>27.8</td><td>1</td><td>2016</td><td>3</td><td>7.918023255813954</td><td>24.0</td><td>100.0</td><td>0.0</td></tr></tbody></table></div>"
      ]
     },
     "metadata": {},
     "output_type": "display_data"
    }
   ],
   "source": [
    "taxi_df = new_green_taxi.data\njoined_dataset = taxi_df.join(\n    weather_df_grouped,\n    [taxi_df[customer_rankgroup] == weather_df_grouped[public_rankgroup],\n     taxi_df[customer_join_time] == weather_df_grouped[public_join_time]],\n    how='left')\n\nfinal_df = joined_dataset.select(raw_columns + [\n    \"avg(temperature)\", \"max(precipTime)\", \"max(precipDepth)\", \"avg(snowDepth)\"])\ndisplay(final_df.limit(5))"
   ]
  },
  {
   "cell_type": "markdown",
   "metadata": {},
   "source": [
    "Check the join success rate."
   ]
  },
  {
   "cell_type": "code",
   "execution_count": 24,
   "metadata": {},
   "outputs": [
    {
     "data": {
      "text/html": [
       "<style scoped>\n  .ansiout {\n    display: block;\n    unicode-bidi: embed;\n    white-space: pre-wrap;\n    word-wrap: break-word;\n    word-break: break-all;\n    font-family: \"Source Code Pro\", \"Menlo\", monospace;;\n    font-size: 13px;\n    color: #555;\n    margin-left: 4px;\n    line-height: 19px;\n  }\n</style>\n<div class=\"ansiout\">&lt;class &apos;pandas.core.frame.DataFrame&apos;&gt;\nRangeIndex: 8775 entries, 0 to 8774\nData columns (total 29 columns):\nvendorID                8775 non-null int32\nlpepPickupDatetime      8775 non-null datetime64[ns]\nlpepDropoffDatetime     8775 non-null datetime64[ns]\npassengerCount          8775 non-null int32\ntripDistance            8775 non-null float64\npuLocationId            0 non-null object\ndoLocationId            0 non-null object\npickupLongitude         8775 non-null float64\npickupLatitude          8775 non-null float64\ndropoffLongitude        8775 non-null float64\ndropoffLatitude         8775 non-null float64\nrateCodeID              8775 non-null int32\nstoreAndFwdFlag         8775 non-null object\npaymentType             8775 non-null int32\nfareAmount              8775 non-null float64\nextra                   8775 non-null float64\nmtaTax                  8775 non-null float64\nimprovementSurcharge    8775 non-null object\ntipAmount               8775 non-null float64\ntollsAmount             8775 non-null float64\nehailFee                0 non-null object\ntotalAmount             8775 non-null float64\ntripType                8775 non-null int32\npuYear                  8775 non-null int32\npuMonth                 8775 non-null int32\navg(temperature)        8775 non-null float64\nmax(precipTime)         8775 non-null float64\nmax(precipDepth)        8775 non-null float64\navg(snowDepth)          8775 non-null float64\ndtypes: datetime64[ns](2), float64(15), int32(7), object(5)\nmemory usage: 1.7+ MB\n</div>"
      ]
     },
     "metadata": {},
     "output_type": "display_data"
    }
   ],
   "source": [
    "final_df.toPandas().info()"
   ]
  },
  {
   "cell_type": "code",
   "execution_count": 25,
   "metadata": {},
   "outputs": [
    {
     "data": {
      "text/html": [
       "<style scoped>\n  .ansiout {\n    display: block;\n    unicode-bidi: embed;\n    white-space: pre-wrap;\n    word-wrap: break-word;\n    word-break: break-all;\n    font-family: \"Source Code Pro\", \"Menlo\", monospace;;\n    font-size: 13px;\n    color: #555;\n    margin-left: 4px;\n    line-height: 19px;\n  }\n</style>\n<div class=\"ansiout\"></div>"
      ]
     },
     "metadata": {},
     "output_type": "display_data"
    }
   ],
   "source": [
    "final_df.createOrReplaceTempView('joined_df')"
   ]
  },
  {
   "cell_type": "code",
   "execution_count": 26,
   "metadata": {},
   "outputs": [
    {
     "data": {
      "text/html": [
       "<style scoped>\n  .table-result-container {\n    max-height: 300px;\n    overflow: auto;\n  }\n  table, th, td {\n    border: 1px solid black;\n    border-collapse: collapse;\n  }\n  th, td {\n    padding: 5px;\n  }\n  th {\n    text-align: left;\n  }\n</style><div class='table-result-container'><table class='table-result'><thead style='background-color: white'><tr><th>vendorID</th><th>lpepPickupDatetime</th><th>lpepDropoffDatetime</th><th>passengerCount</th><th>tripDistance</th><th>puLocationId</th><th>doLocationId</th><th>pickupLongitude</th><th>pickupLatitude</th><th>dropoffLongitude</th><th>dropoffLatitude</th><th>rateCodeID</th><th>storeAndFwdFlag</th><th>paymentType</th><th>fareAmount</th><th>extra</th><th>mtaTax</th><th>improvementSurcharge</th><th>tipAmount</th><th>tollsAmount</th><th>ehailFee</th><th>totalAmount</th><th>tripType</th><th>puYear</th><th>puMonth</th><th>avg(temperature)</th><th>max(precipTime)</th><th>max(precipDepth)</th><th>avg(snowDepth)</th></tr></thead><tbody><tr><td>2</td><td>2016-01-26T01:49:47.000+0000</td><td>2016-01-26T02:02:44.000+0000</td><td>1</td><td>3.02</td><td>null</td><td>null</td><td>-73.84416961669922</td><td>40.721500396728516</td><td>-73.7972412109375</td><td>40.709228515625</td><td>1</td><td>N</td><td>2</td><td>12.5</td><td>0.5</td><td>0.5</td><td>0.3</td><td>0.0</td><td>0.0</td><td>null</td><td>13.8</td><td>1</td><td>2016</td><td>1</td><td>4.2092857142857145</td><td>24.0</td><td>0.0</td><td>40.06896551724138</td></tr><tr><td>2</td><td>2016-01-26T06:11:45.000+0000</td><td>2016-01-26T06:26:49.000+0000</td><td>1</td><td>2.46</td><td>null</td><td>null</td><td>-73.90061950683594</td><td>40.838890075683594</td><td>-73.92524719238281</td><td>40.810211181640625</td><td>5</td><td>N</td><td>2</td><td>10.0</td><td>0.0</td><td>0.0</td><td>0</td><td>0.0</td><td>0.0</td><td>null</td><td>10.0</td><td>2</td><td>2016</td><td>1</td><td>4.2092857142857145</td><td>24.0</td><td>0.0</td><td>40.06896551724138</td></tr><tr><td>2</td><td>2016-01-26T06:46:16.000+0000</td><td>2016-01-26T06:52:52.000+0000</td><td>1</td><td>0.92</td><td>null</td><td>null</td><td>-73.96138763427734</td><td>40.66564178466797</td><td>-73.94918823242188</td><td>40.66624069213867</td><td>1</td><td>N</td><td>1</td><td>6.0</td><td>0.0</td><td>0.5</td><td>0.3</td><td>1.36</td><td>0.0</td><td>null</td><td>8.16</td><td>1</td><td>2016</td><td>1</td><td>4.2092857142857145</td><td>24.0</td><td>0.0</td><td>40.06896551724138</td></tr><tr><td>1</td><td>2016-01-26T06:49:11.000+0000</td><td>2016-01-26T06:58:47.000+0000</td><td>1</td><td>1.6</td><td>null</td><td>null</td><td>-73.93540954589844</td><td>40.85007858276367</td><td>-73.91783905029297</td><td>40.865718841552734</td><td>1</td><td>N</td><td>2</td><td>8.5</td><td>0.0</td><td>0.5</td><td>0.3</td><td>0.0</td><td>0.0</td><td>null</td><td>9.3</td><td>1</td><td>2016</td><td>1</td><td>4.2092857142857145</td><td>24.0</td><td>0.0</td><td>40.06896551724138</td></tr><tr><td>2</td><td>2016-01-26T07:57:52.000+0000</td><td>2016-01-26T08:29:26.000+0000</td><td>4</td><td>6.28</td><td>null</td><td>null</td><td>-73.86204528808594</td><td>40.73024368286133</td><td>-73.96729278564453</td><td>40.760032653808594</td><td>1</td><td>N</td><td>1</td><td>25.5</td><td>0.0</td><td>0.5</td><td>0.3</td><td>6.58</td><td>0.0</td><td>null</td><td>32.88</td><td>1</td><td>2016</td><td>1</td><td>4.2092857142857145</td><td>24.0</td><td>0.0</td><td>40.06896551724138</td></tr></tbody></table></div>"
      ]
     },
     "metadata": {},
     "output_type": "display_data"
    }
   ],
   "source": [
    "%sql\nselect * from joined_df\nwhere lpepPickupDatetime >= '2016-01-26' and lpepPickupDatetime < '2016-01-27'\norder by lpepPickupDatetime limit 5"
   ]
  }
 ],
 "metadata": {
  "kernelspec": {
   "display_name": "Python 3",
   "language": "python",
   "name": "python3"
  },
  "language_info": {
   "codemirror_mode": {
    "name": "ipython",
    "version": 3
   },
   "file_extension": ".py",
   "mimetype": "text/x-python",
   "name": "python",
   "nbconvert_exporter": "python",
   "pygments_lexer": "ipython3",
   "version": "3.6.7"
  },
  "name": "04-nyc-taxi-join-weather-in-spark",
  "notebookId": 793878341984437
 },
 "nbformat": 4,
 "nbformat_minor": 0
}
