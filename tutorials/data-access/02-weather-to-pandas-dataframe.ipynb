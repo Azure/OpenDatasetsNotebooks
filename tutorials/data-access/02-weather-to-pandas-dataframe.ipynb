{
 "cells": [
  {
   "cell_type": "markdown",
   "metadata": {},
   "source": [
    "Copyright (c) Microsoft Corporation. All rights reserved.\n",
    "\n",
    "Licensed under the MIT License."
   ]
  },
  {
   "cell_type": "markdown",
   "metadata": {},
   "source": [
    "# Tutorial: Load NOAA ISD Weather Data"
   ]
  },
  {
   "cell_type": "markdown",
   "metadata": {},
   "source": [
    "## Install azureml-opendatasets SDK"
   ]
  },
  {
   "cell_type": "code",
   "execution_count": 5,
   "metadata": {
    "scrolled": true
   },
   "outputs": [
    {
     "name": "stdout",
     "output_type": "stream",
     "text": [
      "Uninstalling azureml-contrib-opendatasets-1.0.30:\n",
      "  Successfully uninstalled azureml-contrib-opendatasets-1.0.30\n",
      "Collecting azureml-contrib-opendatasets\n",
      "  Using cached https://files.pythonhosted.org/packages/64/51/4d3de57cf210941346d907584e0e6e56780067bc3555250b1fe62c2285f7/azureml_contrib_opendatasets-1.0.30-py3-none-any.whl\n",
      "Requirement already satisfied: pyarrow in c:\\programdata\\anaconda3\\envs\\pypi\\lib\\site-packages (from azureml-contrib-opendatasets) (0.13.0)\n",
      "Requirement already satisfied: azureml-telemetry==1.0.30.* in c:\\programdata\\anaconda3\\envs\\pypi\\lib\\site-packages (from azureml-contrib-opendatasets) (1.0.30)\n",
      "Requirement already satisfied: pandas in c:\\programdata\\anaconda3\\envs\\pypi\\lib\\site-packages (from azureml-contrib-opendatasets) (0.24.2)\n",
      "Requirement already satisfied: numpy in c:\\programdata\\anaconda3\\envs\\pypi\\lib\\site-packages (from azureml-contrib-opendatasets) (1.16.3)\n",
      "Requirement already satisfied: azure-storage-blob in c:\\programdata\\anaconda3\\envs\\pypi\\lib\\site-packages (from azureml-contrib-opendatasets) (1.5.0)\n",
      "Requirement already satisfied: multimethods in c:\\programdata\\anaconda3\\envs\\pypi\\lib\\site-packages (from azureml-contrib-opendatasets) (1.0.0)\n",
      "Requirement already satisfied: pyspark in c:\\programdata\\anaconda3\\envs\\pypi\\lib\\site-packages (from azureml-contrib-opendatasets) (2.4.2)\n",
      "Requirement already satisfied: six>=1.0.0 in c:\\programdata\\anaconda3\\envs\\pypi\\lib\\site-packages (from pyarrow->azureml-contrib-opendatasets) (1.12.0)\n",
      "Requirement already satisfied: applicationinsights in c:\\programdata\\anaconda3\\envs\\pypi\\lib\\site-packages (from azureml-telemetry==1.0.30.*->azureml-contrib-opendatasets) (0.11.8)\n",
      "Requirement already satisfied: pytz>=2011k in c:\\programdata\\anaconda3\\envs\\pypi\\lib\\site-packages (from pandas->azureml-contrib-opendatasets) (2019.1)\n",
      "Requirement already satisfied: python-dateutil>=2.5.0 in c:\\programdata\\anaconda3\\envs\\pypi\\lib\\site-packages (from pandas->azureml-contrib-opendatasets) (2.8.0)\n",
      "Requirement already satisfied: azure-common>=1.1.5 in c:\\programdata\\anaconda3\\envs\\pypi\\lib\\site-packages (from azure-storage-blob->azureml-contrib-opendatasets) (1.1.19)\n",
      "Requirement already satisfied: azure-storage-common~=1.4 in c:\\programdata\\anaconda3\\envs\\pypi\\lib\\site-packages (from azure-storage-blob->azureml-contrib-opendatasets) (1.4.0)\n",
      "Requirement already satisfied: py4j==0.10.7 in c:\\programdata\\anaconda3\\envs\\pypi\\lib\\site-packages (from pyspark->azureml-contrib-opendatasets) (0.10.7)\n",
      "Requirement already satisfied: cryptography in c:\\programdata\\anaconda3\\envs\\pypi\\lib\\site-packages (from azure-storage-common~=1.4->azure-storage-blob->azureml-contrib-opendatasets) (2.6.1)\n",
      "Requirement already satisfied: requests in c:\\programdata\\anaconda3\\envs\\pypi\\lib\\site-packages (from azure-storage-common~=1.4->azure-storage-blob->azureml-contrib-opendatasets) (2.21.0)\n",
      "Requirement already satisfied: asn1crypto>=0.21.0 in c:\\programdata\\anaconda3\\envs\\pypi\\lib\\site-packages (from cryptography->azure-storage-common~=1.4->azure-storage-blob->azureml-contrib-opendatasets) (0.24.0)\n",
      "Requirement already satisfied: cffi!=1.11.3,>=1.8 in c:\\programdata\\anaconda3\\envs\\pypi\\lib\\site-packages (from cryptography->azure-storage-common~=1.4->azure-storage-blob->azureml-contrib-opendatasets) (1.12.3)\n",
      "Requirement already satisfied: urllib3<1.25,>=1.21.1 in c:\\programdata\\anaconda3\\envs\\pypi\\lib\\site-packages (from requests->azure-storage-common~=1.4->azure-storage-blob->azureml-contrib-opendatasets) (1.24.2)\n",
      "Requirement already satisfied: certifi>=2017.4.17 in c:\\programdata\\anaconda3\\envs\\pypi\\lib\\site-packages (from requests->azure-storage-common~=1.4->azure-storage-blob->azureml-contrib-opendatasets) (2019.3.9)\n",
      "Requirement already satisfied: idna<2.9,>=2.5 in c:\\programdata\\anaconda3\\envs\\pypi\\lib\\site-packages (from requests->azure-storage-common~=1.4->azure-storage-blob->azureml-contrib-opendatasets) (2.8)\n",
      "Requirement already satisfied: chardet<3.1.0,>=3.0.2 in c:\\programdata\\anaconda3\\envs\\pypi\\lib\\site-packages (from requests->azure-storage-common~=1.4->azure-storage-blob->azureml-contrib-opendatasets) (3.0.4)\n",
      "Requirement already satisfied: pycparser in c:\\programdata\\anaconda3\\envs\\pypi\\lib\\site-packages (from cffi!=1.11.3,>=1.8->cryptography->azure-storage-common~=1.4->azure-storage-blob->azureml-contrib-opendatasets) (2.19)\n",
      "Installing collected packages: azureml-contrib-opendatasets\n",
      "Successfully installed azureml-contrib-opendatasets-1.0.30\n"
     ]
    }
   ],
   "source": [
    "!pip uninstall -y azureml-contrib-opendatasets\n",
    "!pip install azureml-contrib-opendatasets"
   ]
  },
  {
   "cell_type": "markdown",
   "metadata": {},
   "source": [
    "Import NoaaIsdWeather class from azureml-opendatasets"
   ]
  },
  {
   "cell_type": "code",
   "execution_count": 6,
   "metadata": {},
   "outputs": [],
   "source": [
    "# This is a contrib package in preview. The package name is subject to change.\n",
    "\n",
    "from azureml.contrib.opendatasets import NoaaIsdWeather\n",
    "\n",
    "from datetime import datetime\n",
    "from dateutil import parser\n",
    "from dateutil.relativedelta import relativedelta"
   ]
  },
  {
   "cell_type": "markdown",
   "metadata": {},
   "source": [
    "> 1. Set start_date and end_date.\n",
    ">   * For weather data, due to size, by default we allow reading from the last month if multiple months are passed.If you want to load more, please refer to the bottom of this notebook for how.\n",
    "> 2. New an instance of NoaaIsdWeather, disable telemetry if you don't want to send logs to Azure.\n",
    "> 3. Call to_pandas_dataframe() method to get a pandas DataFrame for the last month of import datetime. We only retrieve the last month of the data due to the performance and memory size consideration."
   ]
  },
  {
   "cell_type": "code",
   "execution_count": 7,
   "metadata": {
    "scrolled": true
   },
   "outputs": [
    {
     "name": "stdout",
     "output_type": "stream",
     "text": [
      "Target paths: ['/year=2018/month=1/']\n",
      "Looking for parquet files...\n",
      "Reading them into Pandas dataframe...\n",
      "Reading ISDWeather/year=2018/month=1/part-00043-tid-2144550298476336893-08513eca-5858-4b26-81f4-947fb8ad614f-81081.c000.snappy.parquet under container isdweatherdatacontainer\n",
      "Done.\n",
      "<class 'pandas.core.frame.DataFrame'>\n",
      "Int64Index: 11190325 entries, 0 to 11543557\n",
      "Data columns (total 22 columns):\n",
      "usaf                       object\n",
      "wban                       object\n",
      "datetime                   datetime64[ns]\n",
      "latitude                   float64\n",
      "longitude                  float64\n",
      "elevation                  float64\n",
      "windAngle                  float64\n",
      "windSpeed                  float64\n",
      "temperature                float64\n",
      "seaLvlPressure             float64\n",
      "cloudCoverage              object\n",
      "presentWeatherIndicator    float64\n",
      "pastWeatherIndicator       float64\n",
      "precipTime                 float64\n",
      "precipDepth                float64\n",
      "snowDepth                  float64\n",
      "stationName                object\n",
      "countryOrRegion            object\n",
      "p_k                        object\n",
      "year                       int32\n",
      "day                        int32\n",
      "version                    float64\n",
      "dtypes: datetime64[ns](1), float64(13), int32(2), object(6)\n",
      "memory usage: 1.8+ GB\n",
      "isd done\n"
     ]
    }
   ],
   "source": [
    "start_date = parser.parse('2018-1-1')\n",
    "end_date = parser.parse('2018-1-31')\n",
    "isd = NoaaIsdWeather(start_date, end_date, enable_telemetry=False)\n",
    "isd.to_pandas_dataframe().info()\n",
    "print('isd done')"
   ]
  },
  {
   "cell_type": "markdown",
   "metadata": {},
   "source": [
    "## I want to load more months in my powerful machine\n",
    "Define PandasDataLoadLimitToMonths class to load last N months of given date range.\n",
    "\n",
    "Note that this is useful if you have a powerful machine but because of big size, expect a longer response time here. "
   ]
  },
  {
   "cell_type": "code",
   "execution_count": 8,
   "metadata": {},
   "outputs": [],
   "source": [
    "from azure.storage.blob import BlockBlobService\n",
    "from azureml.contrib.opendatasets._utils.time_utils import day_range, month_range\n",
    "from azureml.contrib.opendatasets.dataaccess.pandas_data_load_limit import PandasDataLoadLimitNone\n",
    "\n",
    "\n",
    "class PandasDataLoadLimitToMonths(PandasDataLoadLimitNone):\n",
    "    def __init__(\n",
    "            self,\n",
    "            start_date,\n",
    "            end_date,\n",
    "            n_months,\n",
    "            path_pattern='/year=%d/month=%d/'):\n",
    "        self.start_date = start_date\n",
    "        self.end_date = end_date\n",
    "        self.n_months = n_months\n",
    "        self.path_pattern = path_pattern\n",
    "        super(PandasDataLoadLimitToMonths, self).__init__()\n",
    "\n",
    "    def get_target_blob_paths(\n",
    "            self,\n",
    "            blob_service: BlockBlobService,\n",
    "            blob_container_name: str,\n",
    "            blob_relative_path: str):\n",
    "        self._match_paths = []\n",
    "        for current_month in month_range(self.start_date, self.end_date):\n",
    "            self._match_paths.append(self.path_pattern % (current_month.year, current_month.month))\n",
    "\n",
    "        if len(self._match_paths) > 1:\n",
    "            print('We are taking the latest n months: %s' % (self._match_paths[-1]))\n",
    "            self._match_paths = self._match_paths[-self.n_months:]\n",
    "\n",
    "        print('Target paths: %s' % (self._match_paths))\n",
    "        return super(PandasDataLoadLimitToMonths, self).get_target_blob_paths(\n",
    "            blob_service=blob_service,\n",
    "            blob_container_name=blob_container_name,\n",
    "            blob_relative_path=blob_relative_path)"
   ]
  },
  {
   "cell_type": "markdown",
   "metadata": {},
   "source": [
    "Define NoaaIsdWeatherForMonths class inherits from NoaaIsdWeather\n",
    "By overriding method get_pandas_limit(), we can balance the data load performance and the amount of the data."
   ]
  },
  {
   "cell_type": "code",
   "execution_count": 9,
   "metadata": {},
   "outputs": [],
   "source": [
    "from azureml.contrib.opendatasets import NoaaIsdWeather\n",
    "from datetime import datetime\n",
    "from dateutil import parser\n",
    "from typing import List, Optional\n",
    "\n",
    "class NoaaIsdWeatherForMonths(NoaaIsdWeather):\n",
    "    _default_start_date = parser.parse('2008-01-01')\n",
    "    _default_end_date = datetime.today()\n",
    "\n",
    "    def __init__(\n",
    "                self,\n",
    "            start_date: datetime = _default_start_date,\n",
    "            end_date: datetime = _default_end_date,\n",
    "            n_months: int = 6,\n",
    "            cols: Optional[List[str]] = None,\n",
    "            enable_telemetry: bool = False):\n",
    "        self.n_months = n_months\n",
    "        super(NoaaIsdWeatherForMonths, self).__init__(\n",
    "            start_date=start_date, end_date=end_date, cols=cols, enable_telemetry=enable_telemetry)\n",
    "        \n",
    "    def get_pandas_limit(self):\n",
    "        return PandasDataLoadLimitToMonths(self.start_date, self.end_date, self.n_months)"
   ]
  },
  {
   "cell_type": "code",
   "execution_count": 10,
   "metadata": {},
   "outputs": [
    {
     "name": "stdout",
     "output_type": "stream",
     "text": [
      "We are taking the latest n months: /year=2016/month=5/\n",
      "Target paths: ['/year=2016/month=2/', '/year=2016/month=3/', '/year=2016/month=4/', '/year=2016/month=5/']\n",
      "Looking for parquet files...\n",
      "Reading them into Pandas dataframe...\n",
      "Reading ISDWeather/year=2016/month=2/part-00011-tid-6700213360605767691-4491b75c-f137-489b-b5df-4204b9326fda-116.c000.snappy.parquet under container isdweatherdatacontainer\n",
      "Reading ISDWeather/year=2016/month=3/part-00004-tid-6700213360605767691-4491b75c-f137-489b-b5df-4204b9326fda-109.c000.snappy.parquet under container isdweatherdatacontainer\n",
      "Reading ISDWeather/year=2016/month=4/part-00008-tid-6700213360605767691-4491b75c-f137-489b-b5df-4204b9326fda-113.c000.snappy.parquet under container isdweatherdatacontainer\n",
      "Reading ISDWeather/year=2016/month=5/part-00006-tid-6700213360605767691-4491b75c-f137-489b-b5df-4204b9326fda-111.c000.snappy.parquet under container isdweatherdatacontainer\n",
      "Done.\n",
      "<class 'pandas.core.frame.DataFrame'>\n",
      "Int64Index: 41043904 entries, 0 to 10528049\n",
      "Data columns (total 9 columns):\n",
      "datetime       datetime64[ns]\n",
      "longitude      float64\n",
      "snowDepth      float64\n",
      "temperature    float64\n",
      "latitude       float64\n",
      "usaf           object\n",
      "precipDepth    float64\n",
      "wban           object\n",
      "precipTime     float64\n",
      "dtypes: datetime64[ns](1), float64(6), object(2)\n",
      "memory usage: 3.1+ GB\n",
      "4 months loaded.\n"
     ]
    }
   ],
   "source": [
    "weather = NoaaIsdWeatherForMonths(\n",
    "    cols=[\"temperature\", \"precipTime\", \"precipDepth\", \"snowDepth\"],\n",
    "    start_date=datetime(2016, 2, 1, 0, 0),\n",
    "    end_date=datetime(2016, 5, 31, 23, 59),\n",
    "    n_months=4)\n",
    "weather.to_pandas_dataframe().info()\n",
    "print('4 months loaded.')"
   ]
  }
 ],
 "metadata": {
  "kernelspec": {
   "display_name": "Python 3",
   "language": "python",
   "name": "python3"
  },
  "language_info": {
   "codemirror_mode": {
    "name": "ipython",
    "version": 3
   },
   "file_extension": ".py",
   "mimetype": "text/x-python",
   "name": "python",
   "nbconvert_exporter": "python",
   "pygments_lexer": "ipython3",
   "version": "3.6.8"
  }
 },
 "nbformat": 4,
 "nbformat_minor": 2
}
