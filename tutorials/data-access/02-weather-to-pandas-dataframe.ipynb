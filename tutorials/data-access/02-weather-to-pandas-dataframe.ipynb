{
 "cells": [
  {
   "cell_type": "markdown",
   "metadata": {},
   "source": [
    "Copyright (c) Microsoft Corporation. All rights reserved.\n",
    "\n",
    "Licensed under the MIT License."
   ]
  },
  {
   "cell_type": "markdown",
   "metadata": {},
   "source": [
    "# Tutorial: Load NOAA ISD Weather Data"
   ]
  },
  {
   "cell_type": "markdown",
   "metadata": {},
   "source": [
    "## Install azureml-opendatasets SDK"
   ]
  },
  {
   "cell_type": "code",
   "execution_count": 1,
   "metadata": {
    "scrolled": true
   },
   "outputs": [
    {
     "name": "stdout",
     "output_type": "stream",
     "text": [
      "Uninstalling azureml-contrib-opendatasets-1.0.30:\n",
      "  Successfully uninstalled azureml-contrib-opendatasets-1.0.30\n",
      "Collecting azureml-contrib-opendatasets\n",
      "  Using cached https://files.pythonhosted.org/packages/64/51/4d3de57cf210941346d907584e0e6e56780067bc3555250b1fe62c2285f7/azureml_contrib_opendatasets-1.0.30-py3-none-any.whl\n",
      "Requirement already satisfied: multimethods in c:\\programdata\\anaconda3\\envs\\pypi\\lib\\site-packages (from azureml-contrib-opendatasets) (1.0.0)\n",
      "Requirement already satisfied: pyarrow in c:\\programdata\\anaconda3\\envs\\pypi\\lib\\site-packages (from azureml-contrib-opendatasets) (0.13.0)\n",
      "Requirement already satisfied: azure-storage-blob in c:\\programdata\\anaconda3\\envs\\pypi\\lib\\site-packages (from azureml-contrib-opendatasets) (1.5.0)\n",
      "Requirement already satisfied: pyspark in c:\\programdata\\anaconda3\\envs\\pypi\\lib\\site-packages (from azureml-contrib-opendatasets) (2.4.2)\n",
      "Requirement already satisfied: pandas in c:\\programdata\\anaconda3\\envs\\pypi\\lib\\site-packages (from azureml-contrib-opendatasets) (0.24.2)\n",
      "Requirement already satisfied: numpy in c:\\programdata\\anaconda3\\envs\\pypi\\lib\\site-packages (from azureml-contrib-opendatasets) (1.16.3)\n",
      "Requirement already satisfied: azureml-telemetry==1.0.30.* in c:\\programdata\\anaconda3\\envs\\pypi\\lib\\site-packages (from azureml-contrib-opendatasets) (1.0.30)\n",
      "Requirement already satisfied: six>=1.0.0 in c:\\programdata\\anaconda3\\envs\\pypi\\lib\\site-packages (from pyarrow->azureml-contrib-opendatasets) (1.12.0)\n",
      "Requirement already satisfied: azure-common>=1.1.5 in c:\\programdata\\anaconda3\\envs\\pypi\\lib\\site-packages (from azure-storage-blob->azureml-contrib-opendatasets) (1.1.19)\n",
      "Requirement already satisfied: azure-storage-common~=1.4 in c:\\programdata\\anaconda3\\envs\\pypi\\lib\\site-packages (from azure-storage-blob->azureml-contrib-opendatasets) (1.4.0)\n",
      "Requirement already satisfied: py4j==0.10.7 in c:\\programdata\\anaconda3\\envs\\pypi\\lib\\site-packages (from pyspark->azureml-contrib-opendatasets) (0.10.7)\n",
      "Requirement already satisfied: python-dateutil>=2.5.0 in c:\\programdata\\anaconda3\\envs\\pypi\\lib\\site-packages (from pandas->azureml-contrib-opendatasets) (2.8.0)\n",
      "Requirement already satisfied: pytz>=2011k in c:\\programdata\\anaconda3\\envs\\pypi\\lib\\site-packages (from pandas->azureml-contrib-opendatasets) (2019.1)\n",
      "Requirement already satisfied: applicationinsights in c:\\programdata\\anaconda3\\envs\\pypi\\lib\\site-packages (from azureml-telemetry==1.0.30.*->azureml-contrib-opendatasets) (0.11.8)\n",
      "Requirement already satisfied: cryptography in c:\\programdata\\anaconda3\\envs\\pypi\\lib\\site-packages (from azure-storage-common~=1.4->azure-storage-blob->azureml-contrib-opendatasets) (2.6.1)\n",
      "Requirement already satisfied: requests in c:\\programdata\\anaconda3\\envs\\pypi\\lib\\site-packages (from azure-storage-common~=1.4->azure-storage-blob->azureml-contrib-opendatasets) (2.21.0)\n",
      "Requirement already satisfied: asn1crypto>=0.21.0 in c:\\programdata\\anaconda3\\envs\\pypi\\lib\\site-packages (from cryptography->azure-storage-common~=1.4->azure-storage-blob->azureml-contrib-opendatasets) (0.24.0)\n",
      "Requirement already satisfied: cffi!=1.11.3,>=1.8 in c:\\programdata\\anaconda3\\envs\\pypi\\lib\\site-packages (from cryptography->azure-storage-common~=1.4->azure-storage-blob->azureml-contrib-opendatasets) (1.12.3)\n",
      "Requirement already satisfied: certifi>=2017.4.17 in c:\\programdata\\anaconda3\\envs\\pypi\\lib\\site-packages (from requests->azure-storage-common~=1.4->azure-storage-blob->azureml-contrib-opendatasets) (2019.3.9)\n",
      "Requirement already satisfied: idna<2.9,>=2.5 in c:\\programdata\\anaconda3\\envs\\pypi\\lib\\site-packages (from requests->azure-storage-common~=1.4->azure-storage-blob->azureml-contrib-opendatasets) (2.8)\n",
      "Requirement already satisfied: chardet<3.1.0,>=3.0.2 in c:\\programdata\\anaconda3\\envs\\pypi\\lib\\site-packages (from requests->azure-storage-common~=1.4->azure-storage-blob->azureml-contrib-opendatasets) (3.0.4)\n",
      "Requirement already satisfied: urllib3<1.25,>=1.21.1 in c:\\programdata\\anaconda3\\envs\\pypi\\lib\\site-packages (from requests->azure-storage-common~=1.4->azure-storage-blob->azureml-contrib-opendatasets) (1.24.2)\n",
      "Requirement already satisfied: pycparser in c:\\programdata\\anaconda3\\envs\\pypi\\lib\\site-packages (from cffi!=1.11.3,>=1.8->cryptography->azure-storage-common~=1.4->azure-storage-blob->azureml-contrib-opendatasets) (2.19)\n",
      "Installing collected packages: azureml-contrib-opendatasets\n",
      "Successfully installed azureml-contrib-opendatasets-1.0.30\n"
     ]
    }
   ],
   "source": [
    "!pip uninstall -y azureml-contrib-opendatasets\n",
    "!pip install azureml-contrib-opendatasets"
   ]
  },
  {
   "cell_type": "markdown",
   "metadata": {},
   "source": [
    "Import NoaaIsdWeather class from azureml-opendatasets"
   ]
  },
  {
   "cell_type": "code",
   "execution_count": 2,
   "metadata": {},
   "outputs": [],
   "source": [
    "# This is a contrib package in preview. The package name is subject to change.\n",
    "\n",
    "from azureml.contrib.opendatasets import NoaaIsdWeather\n",
    "\n",
    "from datetime import datetime\n",
    "from dateutil import parser\n",
    "from dateutil.relativedelta import relativedelta"
   ]
  },
  {
   "cell_type": "markdown",
   "metadata": {},
   "source": [
    "> 1. Set start_date and end_date.\n",
    "> 2. New an instance of NoaaIsdWeather, disable telemetry if you don't want to send logs to Azure.\n",
    "> 3. Call to_pandas_dataframe() method to get a pandas DataFrame for the last month of import datetime. We only retrieve the last month of the data due to the performance and memory size consideration."
   ]
  },
  {
   "cell_type": "code",
   "execution_count": 3,
   "metadata": {
    "scrolled": true
   },
   "outputs": [
    {
     "name": "stdout",
     "output_type": "stream",
     "text": [
      "Target paths: ['/year=2018/month=1/']\n",
      "Looking for parquet files...\n",
      "Reading them into Pandas dataframe...\n",
      "Reading ISDWeather/year=2018/month=1/part-00043-tid-8746345262315685594-9d96c040-809c-4da3-a12e-649c3f8f2505-77900.c000.snappy.parquet under container isdweatherdatacontainer\n",
      "Done.\n",
      "<class 'pandas.core.frame.DataFrame'>\n",
      "Int64Index: 11190325 entries, 0 to 11543564\n",
      "Data columns (total 22 columns):\n",
      "usaf                       object\n",
      "wban                       object\n",
      "datetime                   datetime64[ns]\n",
      "latitude                   float64\n",
      "longitude                  float64\n",
      "elevation                  float64\n",
      "windAngle                  float64\n",
      "windSpeed                  float64\n",
      "temperature                float64\n",
      "seaLvlPressure             float64\n",
      "cloudCoverage              object\n",
      "presentWeatherIndicator    float64\n",
      "pastWeatherIndicator       float64\n",
      "precipTime                 float64\n",
      "precipDepth                float64\n",
      "snowDepth                  float64\n",
      "stationName                object\n",
      "countryOrRegion            object\n",
      "p_k                        object\n",
      "year                       int32\n",
      "day                        int32\n",
      "version                    float64\n",
      "dtypes: datetime64[ns](1), float64(13), int32(2), object(6)\n",
      "memory usage: 1.8+ GB\n",
      "isd done\n"
     ]
    }
   ],
   "source": [
    "start_date = parser.parse('2018-1-1')\n",
    "end_date = parser.parse('2018-1-31')\n",
    "isd = NoaaIsdWeather(start_date, end_date, enable_telemetry=False)\n",
    "isd.to_pandas_dataframe().info()\n",
    "print('isd done')"
   ]
  }
 ],
 "metadata": {
  "kernelspec": {
   "display_name": "Python 3",
   "language": "python",
   "name": "python3"
  },
  "language_info": {
   "codemirror_mode": {
    "name": "ipython",
    "version": 3
   },
   "file_extension": ".py",
   "mimetype": "text/x-python",
   "name": "python",
   "nbconvert_exporter": "python",
   "pygments_lexer": "ipython3",
   "version": "3.6.8"
  }
 },
 "nbformat": 4,
 "nbformat_minor": 2
}
