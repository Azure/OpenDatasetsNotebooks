{
 "cells": [
  {
   "cell_type": "markdown",
   "metadata": {},
   "source": [
    "Copyright (c) Microsoft Corporation. All rights reserved.\n",
    "\n",
    "Licensed under the MIT License."
   ]
  },
  {
   "cell_type": "markdown",
   "metadata": {},
   "source": [
    "# Tutorial: Load NOAA ISD Weather Data\n",
    "\n",
    "In this tutorial, you load the NOAA ISD Weather Data into Spark DataFrame by calling to_spark_dataframe() method.\n",
    "\n",
    "Prerequesits:\n",
    "> You must install the PyPi package on the cluster:\n",
    "> * pandas version must 0.23.0 or above.\n",
    "> * azureml-opendatasets"
   ]
  },
  {
   "cell_type": "markdown",
   "metadata": {},
   "source": [
    "Import NoaaIsdWeather class from azureml-opendatasets"
   ]
  },
  {
   "cell_type": "code",
   "execution_count": 4,
   "metadata": {},
   "outputs": [
    {
     "data": {
      "text/html": [
       "<style scoped>\n",
       "  .ansiout {\n",
       "    display: block;\n",
       "    unicode-bidi: embed;\n",
       "    white-space: pre-wrap;\n",
       "    word-wrap: break-word;\n",
       "    word-break: break-all;\n",
       "    font-family: \"Source Code Pro\", \"Menlo\", monospace;;\n",
       "    font-size: 13px;\n",
       "    color: #555;\n",
       "    margin-left: 4px;\n",
       "    line-height: 19px;\n",
       "  }\n",
       "</style>\n",
       "<div class=\"ansiout\"></div>"
      ]
     },
     "metadata": {},
     "output_type": "display_data"
    }
   ],
   "source": [
    "from azureml.opendatasets import NoaaIsdWeather\n",
    "\n",
    "from datetime import datetime\n",
    "from dateutil import parser\n",
    "from dateutil.relativedelta import relativedelta"
   ]
  },
  {
   "cell_type": "markdown",
   "metadata": {},
   "source": [
    "> 1. Set start_date and end_date.\n",
    "> 2. New an instance of NoaaIsdWeather, disable telemetry if you don't want to send logs to Azure.\n",
    "> 3. Call to_spark_dataframe() method to get a Spark DataFrame for the given date range."
   ]
  },
  {
   "cell_type": "code",
   "execution_count": 6,
   "metadata": {
    "scrolled": true
   },
   "outputs": [
    {
     "data": {
      "text/html": [
       "<style scoped>\n",
       "  .table-result-container {\n",
       "    max-height: 300px;\n",
       "    overflow: auto;\n",
       "  }\n",
       "  table, th, td {\n",
       "    border: 1px solid black;\n",
       "    border-collapse: collapse;\n",
       "  }\n",
       "  th, td {\n",
       "    padding: 5px;\n",
       "  }\n",
       "  th {\n",
       "    text-align: left;\n",
       "  }\n",
       "</style><div class='table-result-container'><table class='table-result'><thead style='background-color: white'><tr><th>usaf</th><th>wban</th><th>datetime</th><th>latitude</th><th>longitude</th><th>elevation</th><th>windAngle</th><th>windSpeed</th><th>temperature</th><th>seaLvlPressure</th><th>cloudCoverage</th><th>presentWeatherIndicator</th><th>pastWeatherIndicator</th><th>precipTime</th><th>precipDepth</th><th>snowDepth</th><th>stationName</th><th>countryOrRegion</th><th>p_k</th><th>year</th><th>day</th><th>version</th><th>month</th></tr></thead><tbody><tr><td>999999</td><td>53155</td><td>2019-01-01T00:00:00.000+0000</td><td>35.755</td><td>-112.337</td><td>1826.0</td><td>null</td><td>2.4</td><td>-5.5</td><td>null</td><td>null</td><td>null</td><td>null</td><td>1.0</td><td>3.0</td><td>null</td><td>WILLIAMS 35 NNW</td><td>US</td><td>999999-53155</td><td>2019</td><td>1</td><td>1.0</td><td>1</td></tr><tr><td>999999</td><td>53155</td><td>2019-01-01T00:05:00.000+0000</td><td>35.755</td><td>-112.337</td><td>1826.0</td><td>null</td><td>null</td><td>-5.6</td><td>null</td><td>null</td><td>null</td><td>null</td><td>null</td><td>null</td><td>null</td><td>WILLIAMS 35 NNW</td><td>US</td><td>999999-53155</td><td>2019</td><td>1</td><td>1.0</td><td>1</td></tr><tr><td>999999</td><td>53155</td><td>2019-01-01T00:10:00.000+0000</td><td>35.755</td><td>-112.337</td><td>1826.0</td><td>null</td><td>null</td><td>-5.7</td><td>null</td><td>null</td><td>null</td><td>null</td><td>null</td><td>null</td><td>null</td><td>WILLIAMS 35 NNW</td><td>US</td><td>999999-53155</td><td>2019</td><td>1</td><td>1.0</td><td>1</td></tr><tr><td>999999</td><td>53155</td><td>2019-01-01T00:15:00.000+0000</td><td>35.755</td><td>-112.337</td><td>1826.0</td><td>null</td><td>null</td><td>-5.8</td><td>null</td><td>null</td><td>null</td><td>null</td><td>null</td><td>null</td><td>null</td><td>WILLIAMS 35 NNW</td><td>US</td><td>999999-53155</td><td>2019</td><td>1</td><td>1.0</td><td>1</td></tr><tr><td>999999</td><td>53155</td><td>2019-01-01T00:20:00.000+0000</td><td>35.755</td><td>-112.337</td><td>1826.0</td><td>null</td><td>null</td><td>-6.0</td><td>null</td><td>null</td><td>null</td><td>null</td><td>null</td><td>null</td><td>null</td><td>WILLIAMS 35 NNW</td><td>US</td><td>999999-53155</td><td>2019</td><td>1</td><td>1.0</td><td>1</td></tr><tr><td>999999</td><td>53155</td><td>2019-01-01T00:25:00.000+0000</td><td>35.755</td><td>-112.337</td><td>1826.0</td><td>null</td><td>null</td><td>-6.1</td><td>null</td><td>null</td><td>null</td><td>null</td><td>null</td><td>null</td><td>null</td><td>WILLIAMS 35 NNW</td><td>US</td><td>999999-53155</td><td>2019</td><td>1</td><td>1.0</td><td>1</td></tr><tr><td>999999</td><td>53155</td><td>2019-01-01T00:30:00.000+0000</td><td>35.755</td><td>-112.337</td><td>1826.0</td><td>null</td><td>null</td><td>-6.2</td><td>null</td><td>null</td><td>null</td><td>null</td><td>null</td><td>null</td><td>null</td><td>WILLIAMS 35 NNW</td><td>US</td><td>999999-53155</td><td>2019</td><td>1</td><td>1.0</td><td>1</td></tr><tr><td>999999</td><td>53155</td><td>2019-01-01T00:35:00.000+0000</td><td>35.755</td><td>-112.337</td><td>1826.0</td><td>null</td><td>null</td><td>-6.4</td><td>null</td><td>null</td><td>null</td><td>null</td><td>null</td><td>null</td><td>null</td><td>WILLIAMS 35 NNW</td><td>US</td><td>999999-53155</td><td>2019</td><td>1</td><td>1.0</td><td>1</td></tr><tr><td>999999</td><td>53155</td><td>2019-01-01T00:40:00.000+0000</td><td>35.755</td><td>-112.337</td><td>1826.0</td><td>null</td><td>null</td><td>-6.6</td><td>null</td><td>null</td><td>null</td><td>null</td><td>null</td><td>null</td><td>null</td><td>WILLIAMS 35 NNW</td><td>US</td><td>999999-53155</td><td>2019</td><td>1</td><td>1.0</td><td>1</td></tr><tr><td>999999</td><td>53155</td><td>2019-01-01T00:45:00.000+0000</td><td>35.755</td><td>-112.337</td><td>1826.0</td><td>null</td><td>null</td><td>-6.4</td><td>null</td><td>null</td><td>null</td><td>null</td><td>null</td><td>null</td><td>null</td><td>WILLIAMS 35 NNW</td><td>US</td><td>999999-53155</td><td>2019</td><td>1</td><td>1.0</td><td>1</td></tr></tbody></table></div>"
      ]
     },
     "metadata": {},
     "output_type": "display_data"
    }
   ],
   "source": [
    "start_date = parser.parse('2019-1-1')\n",
    "end_date = parser.parse('2019-3-31')\n",
    "isd = NoaaIsdWeather(start_date, end_date, enable_telemetry=False)\n",
    "df = isd.to_spark_dataframe()\n",
    "display(df.limit(10))"
   ]
  }
 ],
 "metadata": {
  "kernelspec": {
   "display_name": "Python 3",
   "language": "python",
   "name": "python3"
  },
  "language_info": {
   "codemirror_mode": {
    "name": "ipython",
    "version": 3
   },
   "file_extension": ".py",
   "mimetype": "text/x-python",
   "name": "python",
   "nbconvert_exporter": "python",
   "pygments_lexer": "ipython3",
   "version": "3.6.8"
  },
  "name": "NoaaIsdWeather.to_spark_dataframe",
  "notebookId": 4267219436834249
 },
 "nbformat": 4,
 "nbformat_minor": 1
}
